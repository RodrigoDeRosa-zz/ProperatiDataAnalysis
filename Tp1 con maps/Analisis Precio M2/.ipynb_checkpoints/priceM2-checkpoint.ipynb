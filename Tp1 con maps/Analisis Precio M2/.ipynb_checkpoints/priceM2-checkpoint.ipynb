{
 "cells": [
  {
   "cell_type": "code",
   "execution_count": 86,
   "metadata": {
    "collapsed": true
   },
   "outputs": [],
   "source": [
    "import pandas as pd\n",
    "import numpy as np\n",
    "import matplotlib.pyplot as plt\n",
    "import seaborn as sns\n",
    "%matplotlib inline"
   ]
  },
  {
   "cell_type": "code",
   "execution_count": 2,
   "metadata": {
    "collapsed": true
   },
   "outputs": [],
   "source": [
    "#Lectura del archivo\n",
    "property_data = pd.read_csv('../../../sold_properties.csv')"
   ]
  },
  {
   "cell_type": "markdown",
   "metadata": {},
   "source": [
    "### Nos quedamos con las propiedades de CABA y GBA"
   ]
  },
  {
   "cell_type": "code",
   "execution_count": 3,
   "metadata": {
    "collapsed": true
   },
   "outputs": [],
   "source": [
    "property_data = property_data[property_data.place_with_parent_names.str.contains('Capital Federal') | \n",
    "                            property_data.place_with_parent_names.str.contains('Bs.As. G.B.A.')]"
   ]
  },
  {
   "cell_type": "markdown",
   "metadata": {},
   "source": [
    "##### Analisas de la informacion a procesar"
   ]
  },
  {
   "cell_type": "code",
   "execution_count": 4,
   "metadata": {},
   "outputs": [
    {
     "name": "stdout",
     "output_type": "stream",
     "text": [
      "<class 'pandas.core.frame.DataFrame'>\n",
      "Int64Index: 124746 entries, 0 to 187480\n",
      "Data columns (total 27 columns):\n",
      "id                            124746 non-null object\n",
      "created_on                    124746 non-null object\n",
      "operation                     124746 non-null object\n",
      "property_type                 124746 non-null object\n",
      "place_name                    124711 non-null object\n",
      "place_with_parent_names       124746 non-null object\n",
      "country_name                  124746 non-null object\n",
      "state_name                    124746 non-null object\n",
      "geonames_id                   97866 non-null float64\n",
      "lat-lon                       75504 non-null object\n",
      "lat                           75504 non-null float64\n",
      "lon                           75504 non-null float64\n",
      "price                         110203 non-null float64\n",
      "currency                      110202 non-null object\n",
      "price_aprox_local_currency    110203 non-null float64\n",
      "price_aprox_usd               110203 non-null float64\n",
      "surface_total_in_m2           89385 non-null float64\n",
      "surface_covered_in_m2         109180 non-null float64\n",
      "price_usd_per_m2              79108 non-null float64\n",
      "price_per_m2                  98873 non-null float64\n",
      "floor                         10574 non-null float64\n",
      "rooms                         49922 non-null float64\n",
      "expenses                      14913 non-null float64\n",
      "properati_url                 124746 non-null object\n",
      "description                   124739 non-null object\n",
      "title                         124746 non-null object\n",
      "image_thumbnail               121669 non-null object\n",
      "dtypes: float64(13), object(14)\n",
      "memory usage: 26.6+ MB\n"
     ]
    }
   ],
   "source": [
    "property_data.info()"
   ]
  },
  {
   "cell_type": "markdown",
   "metadata": {},
   "source": [
    "##### Solo nos importan algunas filas para lo que vamos a analizar\n",
    "    Estas son:\n",
    "        - place_name --> Para saber a que barrio corresponde\n",
    "        - price_aprox_usd --> Para calcular el precio por m² en aquellas propiedades en que no se conozca\n",
    "        - surface_total_in_m2 | surface_covered_in_m2 --> Idem anterior\n",
    "        - price_usd_per_m2 --> Para analizar el valor del m²"
   ]
  },
  {
   "cell_type": "code",
   "execution_count": 5,
   "metadata": {
    "collapsed": true
   },
   "outputs": [],
   "source": [
    "init_data = property_data[['place_name', 'price_aprox_usd', 'surface_total_in_m2',\\\n",
    "                           'surface_covered_in_m2', 'price_usd_per_m2']]"
   ]
  },
  {
   "cell_type": "markdown",
   "metadata": {},
   "source": [
    "##### Ahora vemos la consistencia de los datos de la tabla"
   ]
  },
  {
   "cell_type": "code",
   "execution_count": 6,
   "metadata": {},
   "outputs": [
    {
     "name": "stdout",
     "output_type": "stream",
     "text": [
      "<class 'pandas.core.frame.DataFrame'>\n",
      "Int64Index: 124746 entries, 0 to 187480\n",
      "Data columns (total 5 columns):\n",
      "place_name               124711 non-null object\n",
      "price_aprox_usd          110203 non-null float64\n",
      "surface_total_in_m2      89385 non-null float64\n",
      "surface_covered_in_m2    109180 non-null float64\n",
      "price_usd_per_m2         79108 non-null float64\n",
      "dtypes: float64(4), object(1)\n",
      "memory usage: 5.7+ MB\n"
     ]
    }
   ],
   "source": [
    "init_data.info()"
   ]
  },
  {
   "cell_type": "markdown",
   "metadata": {},
   "source": [
    "### Completamos las entradas que no tienen la información del valor del m² en caso que no esté. Siendo $price_{m^2} = \\frac{price_{USD}}{surface_{total}}$"
   ]
  },
  {
   "cell_type": "markdown",
   "metadata": {},
   "source": [
    "###### Primero definiremos una nueva columna 'surface_total', que será surface_covered_in_m2 si surface_total_in_m2 == NaN o surface_total_in_m2 en caso contrario \n",
    "        Hacemos un rename de las columnas para que sea mas facil escribir"
   ]
  },
  {
   "cell_type": "code",
   "execution_count": 7,
   "metadata": {},
   "outputs": [
    {
     "name": "stdout",
     "output_type": "stream",
     "text": [
      "<class 'pandas.core.frame.DataFrame'>\n",
      "Int64Index: 124746 entries, 0 to 187480\n",
      "Data columns (total 5 columns):\n",
      "location           124711 non-null object\n",
      "total_price        110203 non-null float64\n",
      "total_surface      89385 non-null float64\n",
      "covered_surface    109180 non-null float64\n",
      "m2_price           79108 non-null float64\n",
      "dtypes: float64(4), object(1)\n",
      "memory usage: 5.7+ MB\n"
     ]
    }
   ],
   "source": [
    "init_data.columns = ['location', 'total_price', 'total_surface', 'covered_surface', 'm2_price']\n",
    "init_data.info()"
   ]
  },
  {
   "cell_type": "markdown",
   "metadata": {},
   "source": [
    "###### Mostramos algunas entradas del init_data para ver si la funcion está andando"
   ]
  },
  {
   "cell_type": "code",
   "execution_count": 8,
   "metadata": {},
   "outputs": [
    {
     "data": {
      "text/html": [
       "<div>\n",
       "<style>\n",
       "    .dataframe thead tr:only-child th {\n",
       "        text-align: right;\n",
       "    }\n",
       "\n",
       "    .dataframe thead th {\n",
       "        text-align: left;\n",
       "    }\n",
       "\n",
       "    .dataframe tbody tr th {\n",
       "        vertical-align: top;\n",
       "    }\n",
       "</style>\n",
       "<table border=\"1\" class=\"dataframe\">\n",
       "  <thead>\n",
       "    <tr style=\"text-align: right;\">\n",
       "      <th></th>\n",
       "      <th>location</th>\n",
       "      <th>total_price</th>\n",
       "      <th>total_surface</th>\n",
       "      <th>covered_surface</th>\n",
       "      <th>m2_price</th>\n",
       "    </tr>\n",
       "  </thead>\n",
       "  <tbody>\n",
       "    <tr>\n",
       "      <th>0</th>\n",
       "      <td>San Antonio De Padua</td>\n",
       "      <td>120000.0</td>\n",
       "      <td>333.0</td>\n",
       "      <td>93.0</td>\n",
       "      <td>360.360360</td>\n",
       "    </tr>\n",
       "    <tr>\n",
       "      <th>1</th>\n",
       "      <td>San Antonio De Padua</td>\n",
       "      <td>220000.0</td>\n",
       "      <td>220.0</td>\n",
       "      <td>220.0</td>\n",
       "      <td>1000.000000</td>\n",
       "    </tr>\n",
       "    <tr>\n",
       "      <th>4</th>\n",
       "      <td>Mataderos</td>\n",
       "      <td>185000.0</td>\n",
       "      <td>300.0</td>\n",
       "      <td>103.0</td>\n",
       "      <td>616.666667</td>\n",
       "    </tr>\n",
       "    <tr>\n",
       "      <th>5</th>\n",
       "      <td>Pilar</td>\n",
       "      <td>97000.0</td>\n",
       "      <td>NaN</td>\n",
       "      <td>54.0</td>\n",
       "      <td>NaN</td>\n",
       "    </tr>\n",
       "    <tr>\n",
       "      <th>6</th>\n",
       "      <td>San Isidro</td>\n",
       "      <td>750000.0</td>\n",
       "      <td>NaN</td>\n",
       "      <td>NaN</td>\n",
       "      <td>NaN</td>\n",
       "    </tr>\n",
       "  </tbody>\n",
       "</table>\n",
       "</div>"
      ],
      "text/plain": [
       "               location  total_price  total_surface  covered_surface  \\\n",
       "0  San Antonio De Padua     120000.0          333.0             93.0   \n",
       "1  San Antonio De Padua     220000.0          220.0            220.0   \n",
       "4             Mataderos     185000.0          300.0            103.0   \n",
       "5                 Pilar      97000.0            NaN             54.0   \n",
       "6            San Isidro     750000.0            NaN              NaN   \n",
       "\n",
       "      m2_price  \n",
       "0   360.360360  \n",
       "1  1000.000000  \n",
       "4   616.666667  \n",
       "5          NaN  \n",
       "6          NaN  "
      ]
     },
     "execution_count": 8,
     "metadata": {},
     "output_type": "execute_result"
    }
   ],
   "source": [
    "init_data.head(5)"
   ]
  },
  {
   "cell_type": "markdown",
   "metadata": {},
   "source": [
    "###### Se define la funcion que completa los campos"
   ]
  },
  {
   "cell_type": "code",
   "execution_count": 9,
   "metadata": {
    "collapsed": true
   },
   "outputs": [],
   "source": [
    "def set_surface(row):\n",
    "    total = row.total_surface\n",
    "    covered = row.covered_surface\n",
    "    if np.isnan(total):\n",
    "        row.total_surface = covered\n",
    "        return row\n",
    "    return row"
   ]
  },
  {
   "cell_type": "markdown",
   "metadata": {},
   "source": [
    "###### Aplicamos la funcion a todas las filas del DataFrame y vemos si modifico lo que antes vimos"
   ]
  },
  {
   "cell_type": "code",
   "execution_count": 10,
   "metadata": {},
   "outputs": [
    {
     "data": {
      "text/html": [
       "<div>\n",
       "<style>\n",
       "    .dataframe thead tr:only-child th {\n",
       "        text-align: right;\n",
       "    }\n",
       "\n",
       "    .dataframe thead th {\n",
       "        text-align: left;\n",
       "    }\n",
       "\n",
       "    .dataframe tbody tr th {\n",
       "        vertical-align: top;\n",
       "    }\n",
       "</style>\n",
       "<table border=\"1\" class=\"dataframe\">\n",
       "  <thead>\n",
       "    <tr style=\"text-align: right;\">\n",
       "      <th></th>\n",
       "      <th>location</th>\n",
       "      <th>total_price</th>\n",
       "      <th>total_surface</th>\n",
       "      <th>covered_surface</th>\n",
       "      <th>m2_price</th>\n",
       "    </tr>\n",
       "  </thead>\n",
       "  <tbody>\n",
       "    <tr>\n",
       "      <th>0</th>\n",
       "      <td>San Antonio De Padua</td>\n",
       "      <td>120000.0</td>\n",
       "      <td>333.0</td>\n",
       "      <td>93.0</td>\n",
       "      <td>360.360360</td>\n",
       "    </tr>\n",
       "    <tr>\n",
       "      <th>1</th>\n",
       "      <td>San Antonio De Padua</td>\n",
       "      <td>220000.0</td>\n",
       "      <td>220.0</td>\n",
       "      <td>220.0</td>\n",
       "      <td>1000.000000</td>\n",
       "    </tr>\n",
       "    <tr>\n",
       "      <th>4</th>\n",
       "      <td>Mataderos</td>\n",
       "      <td>185000.0</td>\n",
       "      <td>300.0</td>\n",
       "      <td>103.0</td>\n",
       "      <td>616.666667</td>\n",
       "    </tr>\n",
       "    <tr>\n",
       "      <th>5</th>\n",
       "      <td>Pilar</td>\n",
       "      <td>97000.0</td>\n",
       "      <td>54.0</td>\n",
       "      <td>54.0</td>\n",
       "      <td>NaN</td>\n",
       "    </tr>\n",
       "    <tr>\n",
       "      <th>6</th>\n",
       "      <td>San Isidro</td>\n",
       "      <td>750000.0</td>\n",
       "      <td>NaN</td>\n",
       "      <td>NaN</td>\n",
       "      <td>NaN</td>\n",
       "    </tr>\n",
       "  </tbody>\n",
       "</table>\n",
       "</div>"
      ],
      "text/plain": [
       "               location  total_price  total_surface  covered_surface  \\\n",
       "0  San Antonio De Padua     120000.0          333.0             93.0   \n",
       "1  San Antonio De Padua     220000.0          220.0            220.0   \n",
       "4             Mataderos     185000.0          300.0            103.0   \n",
       "5                 Pilar      97000.0           54.0             54.0   \n",
       "6            San Isidro     750000.0            NaN              NaN   \n",
       "\n",
       "      m2_price  \n",
       "0   360.360360  \n",
       "1  1000.000000  \n",
       "4   616.666667  \n",
       "5          NaN  \n",
       "6          NaN  "
      ]
     },
     "execution_count": 10,
     "metadata": {},
     "output_type": "execute_result"
    }
   ],
   "source": [
    "surface_data = init_data.apply(set_surface, axis = 1)\n",
    "surface_data.head(5)"
   ]
  },
  {
   "cell_type": "markdown",
   "metadata": {},
   "source": [
    "###### Hacemos un surface_data.info() para ver cuantas propiedades más podemos usar (es decir que tantas propiedades mas ahora tienen surface_total)\n",
    "    Vemos que son casi 30mil propiedades"
   ]
  },
  {
   "cell_type": "code",
   "execution_count": 11,
   "metadata": {},
   "outputs": [
    {
     "name": "stdout",
     "output_type": "stream",
     "text": [
      "<class 'pandas.core.frame.DataFrame'>\n",
      "Int64Index: 124746 entries, 0 to 187480\n",
      "Data columns (total 5 columns):\n",
      "location           124711 non-null object\n",
      "total_price        110203 non-null float64\n",
      "total_surface      115006 non-null float64\n",
      "covered_surface    109180 non-null float64\n",
      "m2_price           79108 non-null float64\n",
      "dtypes: float64(4), object(1)\n",
      "memory usage: 5.7+ MB\n"
     ]
    }
   ],
   "source": [
    "surface_data.info()"
   ]
  },
  {
   "cell_type": "markdown",
   "metadata": {},
   "source": [
    "### Ahora procedemos a completar las columnas 'm2_price' en los casos posibles\n",
    "    ~ Para esto, nos quedamos con las filas que cumplen la siguiente condicion lógica: (m2_price | (total_surface & total_price))\n",
    "    ~ Además, eliminaremos covered_surface (que ya no nos sirve) y todas aquellas entradas que tengan valores iguales a 0 en los campos arriba mencionados "
   ]
  },
  {
   "cell_type": "markdown",
   "metadata": {},
   "source": [
    "###### Se elimina la columna covered_surface"
   ]
  },
  {
   "cell_type": "code",
   "execution_count": 12,
   "metadata": {},
   "outputs": [
    {
     "name": "stdout",
     "output_type": "stream",
     "text": [
      "<class 'pandas.core.frame.DataFrame'>\n",
      "Int64Index: 124746 entries, 0 to 187480\n",
      "Data columns (total 4 columns):\n",
      "location         124711 non-null object\n",
      "total_price      110203 non-null float64\n",
      "total_surface    115006 non-null float64\n",
      "m2_price         79108 non-null float64\n",
      "dtypes: float64(3), object(1)\n",
      "memory usage: 4.8+ MB\n"
     ]
    }
   ],
   "source": [
    "filled_data = surface_data[['location', 'total_price', 'total_surface', 'm2_price']]\n",
    "filled_data.info()"
   ]
  },
  {
   "cell_type": "markdown",
   "metadata": {},
   "source": [
    "###### Se eliminan las entradas que no cumplen con las condiciones arriba mencionadas"
   ]
  },
  {
   "cell_type": "code",
   "execution_count": 13,
   "metadata": {},
   "outputs": [
    {
     "name": "stdout",
     "output_type": "stream",
     "text": [
      "<class 'pandas.core.frame.DataFrame'>\n",
      "Int64Index: 103158 entries, 0 to 187480\n",
      "Data columns (total 4 columns):\n",
      "location         103124 non-null object\n",
      "total_price      103158 non-null float64\n",
      "total_surface    103158 non-null float64\n",
      "m2_price         79107 non-null float64\n",
      "dtypes: float64(3), object(1)\n",
      "memory usage: 3.9+ MB\n"
     ]
    }
   ],
   "source": [
    "useful_data = filled_data[(filled_data.m2_price > 0) | ((filled_data.total_price > 0) & (filled_data.total_surface > 0))]\n",
    "useful_data.info()"
   ]
  },
  {
   "cell_type": "markdown",
   "metadata": {},
   "source": [
    "###### Se define la funcion que completa las columnas"
   ]
  },
  {
   "cell_type": "code",
   "execution_count": 14,
   "metadata": {
    "collapsed": true
   },
   "outputs": [],
   "source": [
    "def set_m2_price(row):\n",
    "    price = row.total_price\n",
    "    surface = row.total_surface\n",
    "    if np.isnan(row.m2_price):\n",
    "        row.m2_price = price/surface\n",
    "        return row\n",
    "    return row"
   ]
  },
  {
   "cell_type": "markdown",
   "metadata": {},
   "source": [
    "###### Aplicamos la funcion a todas las filas del DataFrame y vemos como se mejoro"
   ]
  },
  {
   "cell_type": "code",
   "execution_count": 15,
   "metadata": {},
   "outputs": [
    {
     "name": "stdout",
     "output_type": "stream",
     "text": [
      "<class 'pandas.core.frame.DataFrame'>\n",
      "Int64Index: 103158 entries, 0 to 187480\n",
      "Data columns (total 4 columns):\n",
      "location         103124 non-null object\n",
      "total_price      103158 non-null float64\n",
      "total_surface    103158 non-null float64\n",
      "m2_price         103158 non-null float64\n",
      "dtypes: float64(3), object(1)\n",
      "memory usage: 3.9+ MB\n"
     ]
    }
   ],
   "source": [
    "complete_data = useful_data.apply(set_m2_price, axis = 1)\n",
    "complete_data.info()"
   ]
  },
  {
   "cell_type": "markdown",
   "metadata": {},
   "source": [
    "###### Ahora queremos ver si los datos que nos metio la funcion estan bien"
   ]
  },
  {
   "cell_type": "markdown",
   "metadata": {},
   "source": [
    "    Datos previos"
   ]
  },
  {
   "cell_type": "code",
   "execution_count": 16,
   "metadata": {},
   "outputs": [
    {
     "data": {
      "text/html": [
       "<div>\n",
       "<style>\n",
       "    .dataframe thead tr:only-child th {\n",
       "        text-align: right;\n",
       "    }\n",
       "\n",
       "    .dataframe thead th {\n",
       "        text-align: left;\n",
       "    }\n",
       "\n",
       "    .dataframe tbody tr th {\n",
       "        vertical-align: top;\n",
       "    }\n",
       "</style>\n",
       "<table border=\"1\" class=\"dataframe\">\n",
       "  <thead>\n",
       "    <tr style=\"text-align: right;\">\n",
       "      <th></th>\n",
       "      <th>location</th>\n",
       "      <th>total_price</th>\n",
       "      <th>total_surface</th>\n",
       "      <th>m2_price</th>\n",
       "    </tr>\n",
       "  </thead>\n",
       "  <tbody>\n",
       "    <tr>\n",
       "      <th>0</th>\n",
       "      <td>San Antonio De Padua</td>\n",
       "      <td>120000.0</td>\n",
       "      <td>333.0</td>\n",
       "      <td>360.360360</td>\n",
       "    </tr>\n",
       "    <tr>\n",
       "      <th>1</th>\n",
       "      <td>San Antonio De Padua</td>\n",
       "      <td>220000.0</td>\n",
       "      <td>220.0</td>\n",
       "      <td>1000.000000</td>\n",
       "    </tr>\n",
       "    <tr>\n",
       "      <th>4</th>\n",
       "      <td>Mataderos</td>\n",
       "      <td>185000.0</td>\n",
       "      <td>300.0</td>\n",
       "      <td>616.666667</td>\n",
       "    </tr>\n",
       "    <tr>\n",
       "      <th>5</th>\n",
       "      <td>Pilar</td>\n",
       "      <td>97000.0</td>\n",
       "      <td>54.0</td>\n",
       "      <td>NaN</td>\n",
       "    </tr>\n",
       "    <tr>\n",
       "      <th>10</th>\n",
       "      <td>Pilar</td>\n",
       "      <td>100000.0</td>\n",
       "      <td>45.0</td>\n",
       "      <td>NaN</td>\n",
       "    </tr>\n",
       "    <tr>\n",
       "      <th>12</th>\n",
       "      <td>Benavidez</td>\n",
       "      <td>390000.0</td>\n",
       "      <td>375.0</td>\n",
       "      <td>NaN</td>\n",
       "    </tr>\n",
       "    <tr>\n",
       "      <th>13</th>\n",
       "      <td>Florida</td>\n",
       "      <td>275000.0</td>\n",
       "      <td>111.0</td>\n",
       "      <td>NaN</td>\n",
       "    </tr>\n",
       "    <tr>\n",
       "      <th>29</th>\n",
       "      <td>Ramos Mejía</td>\n",
       "      <td>88000.0</td>\n",
       "      <td>60.0</td>\n",
       "      <td>1466.666667</td>\n",
       "    </tr>\n",
       "    <tr>\n",
       "      <th>31</th>\n",
       "      <td>Villa Luzuriaga</td>\n",
       "      <td>52000.0</td>\n",
       "      <td>37.0</td>\n",
       "      <td>1405.405405</td>\n",
       "    </tr>\n",
       "    <tr>\n",
       "      <th>32</th>\n",
       "      <td>San Isidro</td>\n",
       "      <td>550000.0</td>\n",
       "      <td>600.0</td>\n",
       "      <td>NaN</td>\n",
       "    </tr>\n",
       "  </tbody>\n",
       "</table>\n",
       "</div>"
      ],
      "text/plain": [
       "                location  total_price  total_surface     m2_price\n",
       "0   San Antonio De Padua     120000.0          333.0   360.360360\n",
       "1   San Antonio De Padua     220000.0          220.0  1000.000000\n",
       "4              Mataderos     185000.0          300.0   616.666667\n",
       "5                  Pilar      97000.0           54.0          NaN\n",
       "10                 Pilar     100000.0           45.0          NaN\n",
       "12             Benavidez     390000.0          375.0          NaN\n",
       "13               Florida     275000.0          111.0          NaN\n",
       "29           Ramos Mejía      88000.0           60.0  1466.666667\n",
       "31       Villa Luzuriaga      52000.0           37.0  1405.405405\n",
       "32            San Isidro     550000.0          600.0          NaN"
      ]
     },
     "execution_count": 16,
     "metadata": {},
     "output_type": "execute_result"
    }
   ],
   "source": [
    "useful_data.head(10)"
   ]
  },
  {
   "cell_type": "markdown",
   "metadata": {},
   "source": [
    "    Datos post-funcion"
   ]
  },
  {
   "cell_type": "code",
   "execution_count": 17,
   "metadata": {},
   "outputs": [
    {
     "data": {
      "text/html": [
       "<div>\n",
       "<style>\n",
       "    .dataframe thead tr:only-child th {\n",
       "        text-align: right;\n",
       "    }\n",
       "\n",
       "    .dataframe thead th {\n",
       "        text-align: left;\n",
       "    }\n",
       "\n",
       "    .dataframe tbody tr th {\n",
       "        vertical-align: top;\n",
       "    }\n",
       "</style>\n",
       "<table border=\"1\" class=\"dataframe\">\n",
       "  <thead>\n",
       "    <tr style=\"text-align: right;\">\n",
       "      <th></th>\n",
       "      <th>location</th>\n",
       "      <th>total_price</th>\n",
       "      <th>total_surface</th>\n",
       "      <th>m2_price</th>\n",
       "    </tr>\n",
       "  </thead>\n",
       "  <tbody>\n",
       "    <tr>\n",
       "      <th>0</th>\n",
       "      <td>San Antonio De Padua</td>\n",
       "      <td>120000.0</td>\n",
       "      <td>333.0</td>\n",
       "      <td>360.360360</td>\n",
       "    </tr>\n",
       "    <tr>\n",
       "      <th>1</th>\n",
       "      <td>San Antonio De Padua</td>\n",
       "      <td>220000.0</td>\n",
       "      <td>220.0</td>\n",
       "      <td>1000.000000</td>\n",
       "    </tr>\n",
       "    <tr>\n",
       "      <th>4</th>\n",
       "      <td>Mataderos</td>\n",
       "      <td>185000.0</td>\n",
       "      <td>300.0</td>\n",
       "      <td>616.666667</td>\n",
       "    </tr>\n",
       "    <tr>\n",
       "      <th>5</th>\n",
       "      <td>Pilar</td>\n",
       "      <td>97000.0</td>\n",
       "      <td>54.0</td>\n",
       "      <td>1796.296296</td>\n",
       "    </tr>\n",
       "    <tr>\n",
       "      <th>10</th>\n",
       "      <td>Pilar</td>\n",
       "      <td>100000.0</td>\n",
       "      <td>45.0</td>\n",
       "      <td>2222.222222</td>\n",
       "    </tr>\n",
       "    <tr>\n",
       "      <th>12</th>\n",
       "      <td>Benavidez</td>\n",
       "      <td>390000.0</td>\n",
       "      <td>375.0</td>\n",
       "      <td>1040.000000</td>\n",
       "    </tr>\n",
       "    <tr>\n",
       "      <th>13</th>\n",
       "      <td>Florida</td>\n",
       "      <td>275000.0</td>\n",
       "      <td>111.0</td>\n",
       "      <td>2477.477477</td>\n",
       "    </tr>\n",
       "    <tr>\n",
       "      <th>29</th>\n",
       "      <td>Ramos Mejía</td>\n",
       "      <td>88000.0</td>\n",
       "      <td>60.0</td>\n",
       "      <td>1466.666667</td>\n",
       "    </tr>\n",
       "    <tr>\n",
       "      <th>31</th>\n",
       "      <td>Villa Luzuriaga</td>\n",
       "      <td>52000.0</td>\n",
       "      <td>37.0</td>\n",
       "      <td>1405.405405</td>\n",
       "    </tr>\n",
       "    <tr>\n",
       "      <th>32</th>\n",
       "      <td>San Isidro</td>\n",
       "      <td>550000.0</td>\n",
       "      <td>600.0</td>\n",
       "      <td>916.666667</td>\n",
       "    </tr>\n",
       "  </tbody>\n",
       "</table>\n",
       "</div>"
      ],
      "text/plain": [
       "                location  total_price  total_surface     m2_price\n",
       "0   San Antonio De Padua     120000.0          333.0   360.360360\n",
       "1   San Antonio De Padua     220000.0          220.0  1000.000000\n",
       "4              Mataderos     185000.0          300.0   616.666667\n",
       "5                  Pilar      97000.0           54.0  1796.296296\n",
       "10                 Pilar     100000.0           45.0  2222.222222\n",
       "12             Benavidez     390000.0          375.0  1040.000000\n",
       "13               Florida     275000.0          111.0  2477.477477\n",
       "29           Ramos Mejía      88000.0           60.0  1466.666667\n",
       "31       Villa Luzuriaga      52000.0           37.0  1405.405405\n",
       "32            San Isidro     550000.0          600.0   916.666667"
      ]
     },
     "execution_count": 17,
     "metadata": {},
     "output_type": "execute_result"
    }
   ],
   "source": [
    "complete_data.head(10)"
   ]
  },
  {
   "cell_type": "markdown",
   "metadata": {},
   "source": [
    "### Ahora que ya completamos todos los datos que podiamos completar, nos quedamos solo con los 103124 que tienen ubicacion"
   ]
  },
  {
   "cell_type": "code",
   "execution_count": 18,
   "metadata": {},
   "outputs": [
    {
     "name": "stdout",
     "output_type": "stream",
     "text": [
      "<class 'pandas.core.frame.DataFrame'>\n",
      "Int64Index: 103124 entries, 0 to 187480\n",
      "Data columns (total 4 columns):\n",
      "location         103124 non-null object\n",
      "total_price      103124 non-null float64\n",
      "total_surface    103124 non-null float64\n",
      "m2_price         103124 non-null float64\n",
      "dtypes: float64(3), object(1)\n",
      "memory usage: 3.9+ MB\n"
     ]
    }
   ],
   "source": [
    "complete_data.dropna(inplace = True)\n",
    "complete_data.info()"
   ]
  },
  {
   "cell_type": "markdown",
   "metadata": {},
   "source": [
    "## Ahora que terminamos de limpiar los datos, vamos a analizar el precio por m²"
   ]
  },
  {
   "cell_type": "markdown",
   "metadata": {},
   "source": [
    "#### Empezamos por quedarnos solo con 'location' y 'm2_price' (al que renombraremos 'price' para entenderlo mas facil)"
   ]
  },
  {
   "cell_type": "code",
   "execution_count": 110,
   "metadata": {},
   "outputs": [
    {
     "data": {
      "text/html": [
       "<div>\n",
       "<style>\n",
       "    .dataframe thead tr:only-child th {\n",
       "        text-align: right;\n",
       "    }\n",
       "\n",
       "    .dataframe thead th {\n",
       "        text-align: left;\n",
       "    }\n",
       "\n",
       "    .dataframe tbody tr th {\n",
       "        vertical-align: top;\n",
       "    }\n",
       "</style>\n",
       "<table border=\"1\" class=\"dataframe\">\n",
       "  <thead>\n",
       "    <tr style=\"text-align: right;\">\n",
       "      <th></th>\n",
       "      <th>location</th>\n",
       "      <th>price</th>\n",
       "    </tr>\n",
       "  </thead>\n",
       "  <tbody>\n",
       "    <tr>\n",
       "      <th>0</th>\n",
       "      <td>San Antonio De Padua</td>\n",
       "      <td>360.360360</td>\n",
       "    </tr>\n",
       "    <tr>\n",
       "      <th>1</th>\n",
       "      <td>San Antonio De Padua</td>\n",
       "      <td>1000.000000</td>\n",
       "    </tr>\n",
       "    <tr>\n",
       "      <th>4</th>\n",
       "      <td>Mataderos</td>\n",
       "      <td>616.666667</td>\n",
       "    </tr>\n",
       "    <tr>\n",
       "      <th>5</th>\n",
       "      <td>Pilar</td>\n",
       "      <td>1796.296296</td>\n",
       "    </tr>\n",
       "    <tr>\n",
       "      <th>10</th>\n",
       "      <td>Pilar</td>\n",
       "      <td>2222.222222</td>\n",
       "    </tr>\n",
       "  </tbody>\n",
       "</table>\n",
       "</div>"
      ],
      "text/plain": [
       "                location        price\n",
       "0   San Antonio De Padua   360.360360\n",
       "1   San Antonio De Padua  1000.000000\n",
       "4              Mataderos   616.666667\n",
       "5                  Pilar  1796.296296\n",
       "10                 Pilar  2222.222222"
      ]
     },
     "execution_count": 110,
     "metadata": {},
     "output_type": "execute_result"
    }
   ],
   "source": [
    "price_m2 = complete_data[['location', 'm2_price']]\n",
    "price_m2.columns = [['location', 'price']]\n",
    "price_m2.head(5)"
   ]
  },
  {
   "cell_type": "code",
   "execution_count": 151,
   "metadata": {},
   "outputs": [
    {
     "data": {
      "text/plain": [
       "<matplotlib.axes._subplots.AxesSubplot at 0x7f40ef3555d0>"
      ]
     },
     "execution_count": 151,
     "metadata": {},
     "output_type": "execute_result"
    },
    {
     "data": {
      "image/png": "[encoded data removed]",
      "text/plain": [
       "<matplotlib.figure.Figure at 0x7f40ef355610>"
      ]
     },
     "metadata": {},
     "output_type": "display_data"
    }
   ],
   "source": [
    "figure = plt.figure()\n",
    "\n",
    "plt.title('Distribucion del precio por metro cuadrado (sin filtrar)', color = 'black')\n",
    "\n",
    "sns.set_context('talk')\n",
    "sns.kdeplot(price_m2.price, color = 'b', lw = 2, shade = True)"
   ]
  },
  {
   "cell_type": "markdown",
   "metadata": {},
   "source": [
    "#### Analizamos la distribucion del precio en general"
   ]
  },
  {
   "cell_type": "code",
   "execution_count": 20,
   "metadata": {},
   "outputs": [
    {
     "data": {
      "text/html": [
       "<div>\n",
       "<style>\n",
       "    .dataframe thead tr:only-child th {\n",
       "        text-align: right;\n",
       "    }\n",
       "\n",
       "    .dataframe thead th {\n",
       "        text-align: left;\n",
       "    }\n",
       "\n",
       "    .dataframe tbody tr th {\n",
       "        vertical-align: top;\n",
       "    }\n",
       "</style>\n",
       "<table border=\"1\" class=\"dataframe\">\n",
       "  <thead>\n",
       "    <tr style=\"text-align: right;\">\n",
       "      <th></th>\n",
       "      <th>price</th>\n",
       "    </tr>\n",
       "  </thead>\n",
       "  <tbody>\n",
       "    <tr>\n",
       "      <th>count</th>\n",
       "      <td>1.031240e+05</td>\n",
       "    </tr>\n",
       "    <tr>\n",
       "      <th>mean</th>\n",
       "      <td>2.701400e+03</td>\n",
       "    </tr>\n",
       "    <tr>\n",
       "      <th>std</th>\n",
       "      <td>1.660507e+04</td>\n",
       "    </tr>\n",
       "    <tr>\n",
       "      <th>min</th>\n",
       "      <td>6.275958e-02</td>\n",
       "    </tr>\n",
       "    <tr>\n",
       "      <th>1%</th>\n",
       "      <td>1.587643e+02</td>\n",
       "    </tr>\n",
       "    <tr>\n",
       "      <th>15%</th>\n",
       "      <td>8.750000e+02</td>\n",
       "    </tr>\n",
       "    <tr>\n",
       "      <th>25%</th>\n",
       "      <td>1.218434e+03</td>\n",
       "    </tr>\n",
       "    <tr>\n",
       "      <th>50%</th>\n",
       "      <td>1.857143e+03</td>\n",
       "    </tr>\n",
       "    <tr>\n",
       "      <th>75%</th>\n",
       "      <td>2.546090e+03</td>\n",
       "    </tr>\n",
       "    <tr>\n",
       "      <th>99%</th>\n",
       "      <td>1.787064e+04</td>\n",
       "    </tr>\n",
       "    <tr>\n",
       "      <th>max</th>\n",
       "      <td>2.600000e+06</td>\n",
       "    </tr>\n",
       "  </tbody>\n",
       "</table>\n",
       "</div>"
      ],
      "text/plain": [
       "              price\n",
       "count  1.031240e+05\n",
       "mean   2.701400e+03\n",
       "std    1.660507e+04\n",
       "min    6.275958e-02\n",
       "1%     1.587643e+02\n",
       "15%    8.750000e+02\n",
       "25%    1.218434e+03\n",
       "50%    1.857143e+03\n",
       "75%    2.546090e+03\n",
       "99%    1.787064e+04\n",
       "max    2.600000e+06"
      ]
     },
     "execution_count": 20,
     "metadata": {},
     "output_type": "execute_result"
    }
   ],
   "source": [
    "price_m2.describe(percentiles = [0.01, 0.15, 0.25, 0.5, 0.75, 0.99])"
   ]
  },
  {
   "cell_type": "markdown",
   "metadata": {},
   "source": [
    "    ~ Podemos ver que hay una propiedad (min) con precio 6 centavos y una (max) con precio 2.6 millones, mientras que la media esta en 2700 dolares.\n",
    "    ~ Además, la diferencia entre el percentil .99 y el máximo es 2 ordenes de magnitud y la diferencia entre el minimo y el percentil .01 es de 4 ordenes de magnitud\n",
    "    ~ Por esto, vamos a quedarnos solo con aquellas muestras que tengan un precio por metro cuadrado entre 150USD y 18000USD (1% y 99%) y lo volveremos a analizar"
   ]
  },
  {
   "cell_type": "code",
   "execution_count": 21,
   "metadata": {},
   "outputs": [
    {
     "data": {
      "text/html": [
       "<div>\n",
       "<style>\n",
       "    .dataframe thead tr:only-child th {\n",
       "        text-align: right;\n",
       "    }\n",
       "\n",
       "    .dataframe thead th {\n",
       "        text-align: left;\n",
       "    }\n",
       "\n",
       "    .dataframe tbody tr th {\n",
       "        vertical-align: top;\n",
       "    }\n",
       "</style>\n",
       "<table border=\"1\" class=\"dataframe\">\n",
       "  <thead>\n",
       "    <tr style=\"text-align: right;\">\n",
       "      <th></th>\n",
       "      <th>price</th>\n",
       "    </tr>\n",
       "  </thead>\n",
       "  <tbody>\n",
       "    <tr>\n",
       "      <th>count</th>\n",
       "      <td>101123.000000</td>\n",
       "    </tr>\n",
       "    <tr>\n",
       "      <th>mean</th>\n",
       "      <td>2075.052286</td>\n",
       "    </tr>\n",
       "    <tr>\n",
       "      <th>std</th>\n",
       "      <td>1526.266972</td>\n",
       "    </tr>\n",
       "    <tr>\n",
       "      <th>min</th>\n",
       "      <td>150.341686</td>\n",
       "    </tr>\n",
       "    <tr>\n",
       "      <th>1%</th>\n",
       "      <td>240.000000</td>\n",
       "    </tr>\n",
       "    <tr>\n",
       "      <th>15%</th>\n",
       "      <td>900.000000</td>\n",
       "    </tr>\n",
       "    <tr>\n",
       "      <th>25%</th>\n",
       "      <td>1233.316667</td>\n",
       "    </tr>\n",
       "    <tr>\n",
       "      <th>50%</th>\n",
       "      <td>1857.142857</td>\n",
       "    </tr>\n",
       "    <tr>\n",
       "      <th>75%</th>\n",
       "      <td>2527.529367</td>\n",
       "    </tr>\n",
       "    <tr>\n",
       "      <th>95%</th>\n",
       "      <td>4250.000000</td>\n",
       "    </tr>\n",
       "    <tr>\n",
       "      <th>99%</th>\n",
       "      <td>8000.000000</td>\n",
       "    </tr>\n",
       "    <tr>\n",
       "      <th>max</th>\n",
       "      <td>17995.000000</td>\n",
       "    </tr>\n",
       "  </tbody>\n",
       "</table>\n",
       "</div>"
      ],
      "text/plain": [
       "               price\n",
       "count  101123.000000\n",
       "mean     2075.052286\n",
       "std      1526.266972\n",
       "min       150.341686\n",
       "1%        240.000000\n",
       "15%       900.000000\n",
       "25%      1233.316667\n",
       "50%      1857.142857\n",
       "75%      2527.529367\n",
       "95%      4250.000000\n",
       "99%      8000.000000\n",
       "max     17995.000000"
      ]
     },
     "execution_count": 21,
     "metadata": {},
     "output_type": "execute_result"
    }
   ],
   "source": [
    "filtered_price = price_m2[(price_m2.price > 150) & (price_m2.price < 18000)]\n",
    "filtered_price.describe(percentiles = [0.01, 0.15, 0.25, 0.5, 0.75, 0.95, 0.99])"
   ]
  },
  {
   "cell_type": "markdown",
   "metadata": {},
   "source": [
    "    ~ Ahora podemos ver que la distribucion es un poco mas normal pero que el percentil del 99% es menos de la mitad del valor máximo. Por esta razón, volveremos a cortar superiormente en el 99%."
   ]
  },
  {
   "cell_type": "code",
   "execution_count": 22,
   "metadata": {},
   "outputs": [
    {
     "data": {
      "text/html": [
       "<div>\n",
       "<style>\n",
       "    .dataframe thead tr:only-child th {\n",
       "        text-align: right;\n",
       "    }\n",
       "\n",
       "    .dataframe thead th {\n",
       "        text-align: left;\n",
       "    }\n",
       "\n",
       "    .dataframe tbody tr th {\n",
       "        vertical-align: top;\n",
       "    }\n",
       "</style>\n",
       "<table border=\"1\" class=\"dataframe\">\n",
       "  <thead>\n",
       "    <tr style=\"text-align: right;\">\n",
       "      <th></th>\n",
       "      <th>price</th>\n",
       "    </tr>\n",
       "  </thead>\n",
       "  <tbody>\n",
       "    <tr>\n",
       "      <th>count</th>\n",
       "      <td>100105.000000</td>\n",
       "    </tr>\n",
       "    <tr>\n",
       "      <th>mean</th>\n",
       "      <td>1974.579201</td>\n",
       "    </tr>\n",
       "    <tr>\n",
       "      <th>std</th>\n",
       "      <td>1123.206980</td>\n",
       "    </tr>\n",
       "    <tr>\n",
       "      <th>min</th>\n",
       "      <td>150.341686</td>\n",
       "    </tr>\n",
       "    <tr>\n",
       "      <th>1%</th>\n",
       "      <td>240.000000</td>\n",
       "    </tr>\n",
       "    <tr>\n",
       "      <th>15%</th>\n",
       "      <td>895.905588</td>\n",
       "    </tr>\n",
       "    <tr>\n",
       "      <th>25%</th>\n",
       "      <td>1225.000000</td>\n",
       "    </tr>\n",
       "    <tr>\n",
       "      <th>50%</th>\n",
       "      <td>1846.153846</td>\n",
       "    </tr>\n",
       "    <tr>\n",
       "      <th>75%</th>\n",
       "      <td>2500.000000</td>\n",
       "    </tr>\n",
       "    <tr>\n",
       "      <th>95%</th>\n",
       "      <td>3971.936961</td>\n",
       "    </tr>\n",
       "    <tr>\n",
       "      <th>99%</th>\n",
       "      <td>6041.666667</td>\n",
       "    </tr>\n",
       "    <tr>\n",
       "      <th>max</th>\n",
       "      <td>7999.996000</td>\n",
       "    </tr>\n",
       "  </tbody>\n",
       "</table>\n",
       "</div>"
      ],
      "text/plain": [
       "               price\n",
       "count  100105.000000\n",
       "mean     1974.579201\n",
       "std      1123.206980\n",
       "min       150.341686\n",
       "1%        240.000000\n",
       "15%       895.905588\n",
       "25%      1225.000000\n",
       "50%      1846.153846\n",
       "75%      2500.000000\n",
       "95%      3971.936961\n",
       "99%      6041.666667\n",
       "max      7999.996000"
      ]
     },
     "execution_count": 22,
     "metadata": {},
     "output_type": "execute_result"
    }
   ],
   "source": [
    "filtered_price = filtered_price[filtered_price.price < 8000]\n",
    "filtered_price.describe(percentiles = [0.01, 0.15, 0.25, 0.5, 0.75, 0.95, 0.99])"
   ]
  },
  {
   "cell_type": "markdown",
   "metadata": {},
   "source": [
    "    ~ Con este ultimo recorte vemos que la distribucion es bastante normal y sólo perdimos 3mil propiedades (menos del 3% del total) por lo que consideramos que los datos eliminiados no eran representativos"
   ]
  },
  {
   "cell_type": "markdown",
   "metadata": {},
   "source": [
    "#### Histograma de la distribucion de precio por $m^2$"
   ]
  },
  {
   "cell_type": "code",
   "execution_count": 109,
   "metadata": {},
   "outputs": [
    {
     "data": {
      "text/plain": [
       "<matplotlib.axes._subplots.AxesSubplot at 0x7f40f202a090>"
      ]
     },
     "execution_count": 109,
     "metadata": {},
     "output_type": "execute_result"
    },
    {
     "data": {
      "image/png": "[encoded data removed]",
      "text/plain": [
       "<matplotlib.figure.Figure at 0x7f40f201efd0>"
      ]
     },
     "metadata": {},
     "output_type": "display_data"
    }
   ],
   "source": [
    "figure = plt.figure()\n",
    "\n",
    "plt.title('Distribucion del precio por metro cuadrado', color = 'black')\n",
    "\n",
    "sns.set_context('talk')\n",
    "sns.distplot(filtered_price.price, axlabel = \"Precio M2\",\\\n",
    "            kde_kws={\"color\": \"lime\", \"lw\": 5, \"label\": \"Kernel Density Estimate\"},\\\n",
    "            hist_kws={\"linewidth\": 1, \"alpha\": 0.5, \"color\": \"b\"})"
   ]
  },
  {
   "cell_type": "markdown",
   "metadata": {},
   "source": [
    "\n",
    "### Analisis general del precio por m2"
   ]
  },
  {
   "cell_type": "markdown",
   "metadata": {},
   "source": [
    "#### Agrupamos todas las entradas por barrio"
   ]
  },
  {
   "cell_type": "code",
   "execution_count": 23,
   "metadata": {},
   "outputs": [
    {
     "data": {
      "text/html": [
       "<div>\n",
       "<style>\n",
       "    .dataframe thead tr:only-child th {\n",
       "        text-align: right;\n",
       "    }\n",
       "\n",
       "    .dataframe thead th {\n",
       "        text-align: left;\n",
       "    }\n",
       "\n",
       "    .dataframe tbody tr th {\n",
       "        vertical-align: top;\n",
       "    }\n",
       "</style>\n",
       "<table border=\"1\" class=\"dataframe\">\n",
       "  <thead>\n",
       "    <tr>\n",
       "      <th></th>\n",
       "      <th colspan=\"2\" halign=\"left\">price</th>\n",
       "    </tr>\n",
       "    <tr>\n",
       "      <th></th>\n",
       "      <th>mean</th>\n",
       "      <th>size</th>\n",
       "    </tr>\n",
       "    <tr>\n",
       "      <th>location</th>\n",
       "      <th></th>\n",
       "      <th></th>\n",
       "    </tr>\n",
       "  </thead>\n",
       "  <tbody>\n",
       "    <tr>\n",
       "      <th>Country Maschwitz Club</th>\n",
       "      <td>1027.007249</td>\n",
       "      <td>4.0</td>\n",
       "    </tr>\n",
       "    <tr>\n",
       "      <th>los alamos</th>\n",
       "      <td>1600.000000</td>\n",
       "      <td>1.0</td>\n",
       "    </tr>\n",
       "    <tr>\n",
       "      <th>9 de Abril</th>\n",
       "      <td>465.909091</td>\n",
       "      <td>2.0</td>\n",
       "    </tr>\n",
       "    <tr>\n",
       "      <th>Abasto</th>\n",
       "      <td>2074.999669</td>\n",
       "      <td>123.0</td>\n",
       "    </tr>\n",
       "    <tr>\n",
       "      <th>Abril Club de Campo</th>\n",
       "      <td>1585.247548</td>\n",
       "      <td>6.0</td>\n",
       "    </tr>\n",
       "  </tbody>\n",
       "</table>\n",
       "</div>"
      ],
      "text/plain": [
       "                               price       \n",
       "                                mean   size\n",
       "location                                   \n",
       " Country Maschwitz Club  1027.007249    4.0\n",
       " los alamos              1600.000000    1.0\n",
       "9 de Abril                465.909091    2.0\n",
       "Abasto                   2074.999669  123.0\n",
       "Abril Club de Campo      1585.247548    6.0"
      ]
     },
     "execution_count": 23,
     "metadata": {},
     "output_type": "execute_result"
    }
   ],
   "source": [
    "by_hood_raw = filtered_price.groupby('location').agg([np.mean, np.size])\n",
    "by_hood_raw.head()"
   ]
  },
  {
   "cell_type": "markdown",
   "metadata": {},
   "source": [
    "##### Ahora necesitamos quedarnos solo con los barrios que tienen una cantidad representativa de propiedades vendidas. Para esto, hacemos un analisis de la informacion actual"
   ]
  },
  {
   "cell_type": "code",
   "execution_count": 24,
   "metadata": {},
   "outputs": [
    {
     "data": {
      "text/html": [
       "<div>\n",
       "<style>\n",
       "    .dataframe thead tr:only-child th {\n",
       "        text-align: right;\n",
       "    }\n",
       "\n",
       "    .dataframe thead th {\n",
       "        text-align: left;\n",
       "    }\n",
       "\n",
       "    .dataframe tbody tr th {\n",
       "        vertical-align: top;\n",
       "    }\n",
       "</style>\n",
       "<table border=\"1\" class=\"dataframe\">\n",
       "  <thead>\n",
       "    <tr>\n",
       "      <th></th>\n",
       "      <th colspan=\"2\" halign=\"left\">price</th>\n",
       "    </tr>\n",
       "    <tr>\n",
       "      <th></th>\n",
       "      <th>mean</th>\n",
       "      <th>size</th>\n",
       "    </tr>\n",
       "  </thead>\n",
       "  <tbody>\n",
       "    <tr>\n",
       "      <th>count</th>\n",
       "      <td>551.000000</td>\n",
       "      <td>551.000000</td>\n",
       "    </tr>\n",
       "    <tr>\n",
       "      <th>mean</th>\n",
       "      <td>1401.880646</td>\n",
       "      <td>181.678766</td>\n",
       "    </tr>\n",
       "    <tr>\n",
       "      <th>std</th>\n",
       "      <td>689.264572</td>\n",
       "      <td>485.480961</td>\n",
       "    </tr>\n",
       "    <tr>\n",
       "      <th>min</th>\n",
       "      <td>166.666667</td>\n",
       "      <td>1.000000</td>\n",
       "    </tr>\n",
       "    <tr>\n",
       "      <th>25%</th>\n",
       "      <td>968.340231</td>\n",
       "      <td>3.000000</td>\n",
       "    </tr>\n",
       "    <tr>\n",
       "      <th>50%</th>\n",
       "      <td>1309.994642</td>\n",
       "      <td>15.000000</td>\n",
       "    </tr>\n",
       "    <tr>\n",
       "      <th>75%</th>\n",
       "      <td>1714.210317</td>\n",
       "      <td>106.500000</td>\n",
       "    </tr>\n",
       "    <tr>\n",
       "      <th>max</th>\n",
       "      <td>5657.858638</td>\n",
       "      <td>4371.000000</td>\n",
       "    </tr>\n",
       "  </tbody>\n",
       "</table>\n",
       "</div>"
      ],
      "text/plain": [
       "             price             \n",
       "              mean         size\n",
       "count   551.000000   551.000000\n",
       "mean   1401.880646   181.678766\n",
       "std     689.264572   485.480961\n",
       "min     166.666667     1.000000\n",
       "25%     968.340231     3.000000\n",
       "50%    1309.994642    15.000000\n",
       "75%    1714.210317   106.500000\n",
       "max    5657.858638  4371.000000"
      ]
     },
     "execution_count": 24,
     "metadata": {},
     "output_type": "execute_result"
    }
   ],
   "source": [
    "by_hood_raw.describe()"
   ]
  },
  {
   "cell_type": "markdown",
   "metadata": {},
   "source": [
    "    ~ Vemos que hay muchos barrios con menos de 50 propiedades vendidas, cosa que puede molestar en el analisis. Por lo tanto, nos vamos a quedar solo con aquellos barrios que tengan al menos 50 propiedades vendidas y volvemos a analizar. (Es aproximadamente una propiedad por mes en los ultimos 4 años)"
   ]
  },
  {
   "cell_type": "code",
   "execution_count": 128,
   "metadata": {},
   "outputs": [
    {
     "data": {
      "text/plain": [
       "<matplotlib.axes._subplots.AxesSubplot at 0x7f40f0501c10>"
      ]
     },
     "execution_count": 128,
     "metadata": {},
     "output_type": "execute_result"
    },
    {
     "data": {
      "image/png": "[encoded data removed]",
      "text/plain": [
       "<matplotlib.figure.Figure at 0x7f40f05018d0>"
      ]
     },
     "metadata": {},
     "output_type": "display_data"
    }
   ],
   "source": [
    "figure = plt.figure()\n",
    "\n",
    "plt.title('Distribucion del precio por metro cuadrado en los barrios (sin filtrar)', color = 'black')\n",
    "\n",
    "sns.set_context('talk')\n",
    "sns.distplot(by_hood_raw[('price', 'mean')], color = 'r', axlabel = \"Precio M2\",\\\n",
    "            kde_kws={\"color\": \"yellow\", \"lw\": 3, \"label\": \"Kernel Density Estimate\"},\\\n",
    "            hist_kws={\"linewidth\": 3, \"alpha\": 0.5, \"color\": \"r\"})"
   ]
  },
  {
   "cell_type": "code",
   "execution_count": 87,
   "metadata": {},
   "outputs": [
    {
     "data": {
      "text/html": [
       "<div>\n",
       "<style>\n",
       "    .dataframe thead tr:only-child th {\n",
       "        text-align: right;\n",
       "    }\n",
       "\n",
       "    .dataframe thead th {\n",
       "        text-align: left;\n",
       "    }\n",
       "\n",
       "    .dataframe tbody tr th {\n",
       "        vertical-align: top;\n",
       "    }\n",
       "</style>\n",
       "<table border=\"1\" class=\"dataframe\">\n",
       "  <thead>\n",
       "    <tr>\n",
       "      <th></th>\n",
       "      <th colspan=\"2\" halign=\"left\">price</th>\n",
       "    </tr>\n",
       "    <tr>\n",
       "      <th></th>\n",
       "      <th>mean</th>\n",
       "      <th>size</th>\n",
       "    </tr>\n",
       "  </thead>\n",
       "  <tbody>\n",
       "    <tr>\n",
       "      <th>count</th>\n",
       "      <td>182.000000</td>\n",
       "      <td>182.000000</td>\n",
       "    </tr>\n",
       "    <tr>\n",
       "      <th>mean</th>\n",
       "      <td>1685.422458</td>\n",
       "      <td>528.736264</td>\n",
       "    </tr>\n",
       "    <tr>\n",
       "      <th>std</th>\n",
       "      <td>719.232886</td>\n",
       "      <td>731.470597</td>\n",
       "    </tr>\n",
       "    <tr>\n",
       "      <th>min</th>\n",
       "      <td>494.492459</td>\n",
       "      <td>50.000000</td>\n",
       "    </tr>\n",
       "    <tr>\n",
       "      <th>25%</th>\n",
       "      <td>1234.810796</td>\n",
       "      <td>109.250000</td>\n",
       "    </tr>\n",
       "    <tr>\n",
       "      <th>50%</th>\n",
       "      <td>1530.614031</td>\n",
       "      <td>261.500000</td>\n",
       "    </tr>\n",
       "    <tr>\n",
       "      <th>75%</th>\n",
       "      <td>2027.166476</td>\n",
       "      <td>623.500000</td>\n",
       "    </tr>\n",
       "    <tr>\n",
       "      <th>max</th>\n",
       "      <td>5657.858638</td>\n",
       "      <td>4371.000000</td>\n",
       "    </tr>\n",
       "  </tbody>\n",
       "</table>\n",
       "</div>"
      ],
      "text/plain": [
       "             price             \n",
       "              mean         size\n",
       "count   182.000000   182.000000\n",
       "mean   1685.422458   528.736264\n",
       "std     719.232886   731.470597\n",
       "min     494.492459    50.000000\n",
       "25%    1234.810796   109.250000\n",
       "50%    1530.614031   261.500000\n",
       "75%    2027.166476   623.500000\n",
       "max    5657.858638  4371.000000"
      ]
     },
     "execution_count": 87,
     "metadata": {},
     "output_type": "execute_result"
    }
   ],
   "source": [
    "by_hood = by_hood_raw[by_hood_raw[('price', 'size')] >= 50]\n",
    "by_hood.describe()"
   ]
  },
  {
   "cell_type": "code",
   "execution_count": 127,
   "metadata": {},
   "outputs": [
    {
     "data": {
      "text/plain": [
       "<matplotlib.axes._subplots.AxesSubplot at 0x7f40f06750d0>"
      ]
     },
     "execution_count": 127,
     "metadata": {},
     "output_type": "execute_result"
    },
    {
     "data": {
      "image/png": "[encoded data removed]",
      "text/plain": [
       "<matplotlib.figure.Figure at 0x7f40f0675110>"
      ]
     },
     "metadata": {},
     "output_type": "display_data"
    }
   ],
   "source": [
    "figure = plt.figure()\n",
    "\n",
    "plt.title('Distribucion del precio por metro cuadrado en los barrios', color = 'black')\n",
    "\n",
    "sns.set_context('talk')\n",
    "sns.distplot(by_hood[('price', 'mean')], color = 'r', axlabel = \"Precio M2\",\\\n",
    "            kde_kws={\"color\": \"r\", \"lw\": 3, \"label\": \"Kernel Density Estimate\"},\\\n",
    "            hist_kws={\"linewidth\": 3, \"alpha\": 0.5, \"color\": \"yellow\"})"
   ]
  },
  {
   "cell_type": "markdown",
   "metadata": {},
   "source": [
    "#### ¿Cuales son los 10 barrios mas caros?"
   ]
  },
  {
   "cell_type": "code",
   "execution_count": 26,
   "metadata": {},
   "outputs": [
    {
     "data": {
      "text/html": [
       "<div>\n",
       "<style>\n",
       "    .dataframe thead tr:only-child th {\n",
       "        text-align: right;\n",
       "    }\n",
       "\n",
       "    .dataframe thead th {\n",
       "        text-align: left;\n",
       "    }\n",
       "\n",
       "    .dataframe tbody tr th {\n",
       "        vertical-align: top;\n",
       "    }\n",
       "</style>\n",
       "<table border=\"1\" class=\"dataframe\">\n",
       "  <thead>\n",
       "    <tr>\n",
       "      <th></th>\n",
       "      <th>price</th>\n",
       "    </tr>\n",
       "    <tr>\n",
       "      <th></th>\n",
       "      <th>mean</th>\n",
       "    </tr>\n",
       "    <tr>\n",
       "      <th>location</th>\n",
       "      <th></th>\n",
       "    </tr>\n",
       "  </thead>\n",
       "  <tbody>\n",
       "    <tr>\n",
       "      <th>Puerto Madero</th>\n",
       "      <td>5657.858638</td>\n",
       "    </tr>\n",
       "    <tr>\n",
       "      <th>Palermo Chico</th>\n",
       "      <td>4489.783862</td>\n",
       "    </tr>\n",
       "    <tr>\n",
       "      <th>Las Cañitas</th>\n",
       "      <td>3612.709961</td>\n",
       "    </tr>\n",
       "    <tr>\n",
       "      <th>Palermo Viejo</th>\n",
       "      <td>3419.251275</td>\n",
       "    </tr>\n",
       "    <tr>\n",
       "      <th>Recoleta</th>\n",
       "      <td>3316.277038</td>\n",
       "    </tr>\n",
       "    <tr>\n",
       "      <th>Palermo</th>\n",
       "      <td>3260.574617</td>\n",
       "    </tr>\n",
       "    <tr>\n",
       "      <th>Palermo Hollywood</th>\n",
       "      <td>3224.410918</td>\n",
       "    </tr>\n",
       "    <tr>\n",
       "      <th>Palermo Soho</th>\n",
       "      <td>3198.944997</td>\n",
       "    </tr>\n",
       "    <tr>\n",
       "      <th>Belgrano</th>\n",
       "      <td>3124.067558</td>\n",
       "    </tr>\n",
       "    <tr>\n",
       "      <th>Nuñez</th>\n",
       "      <td>3056.076175</td>\n",
       "    </tr>\n",
       "  </tbody>\n",
       "</table>\n",
       "</div>"
      ],
      "text/plain": [
       "                         price\n",
       "                          mean\n",
       "location                      \n",
       "Puerto Madero      5657.858638\n",
       "Palermo Chico      4489.783862\n",
       "Las Cañitas        3612.709961\n",
       "Palermo Viejo      3419.251275\n",
       "Recoleta           3316.277038\n",
       "Palermo            3260.574617\n",
       "Palermo Hollywood  3224.410918\n",
       "Palermo Soho       3198.944997\n",
       "Belgrano           3124.067558\n",
       "Nuñez              3056.076175"
      ]
     },
     "execution_count": 26,
     "metadata": {},
     "output_type": "execute_result"
    }
   ],
   "source": [
    "top10 = by_hood[[('price', 'mean')]].sort_values(('price', 'mean'), ascending = False)[:10]\n",
    "top10"
   ]
  },
  {
   "cell_type": "markdown",
   "metadata": {},
   "source": [
    "###### Plot del top10"
   ]
  },
  {
   "cell_type": "code",
   "execution_count": 196,
   "metadata": {},
   "outputs": [
    {
     "data": {
      "image/png": "[encoded data removed]",
      "text/plain": [
       "<matplotlib.figure.Figure at 0x7f40f0649750>"
      ]
     },
     "metadata": {},
     "output_type": "display_data"
    }
   ],
   "source": [
    "f = plt.figure()\n",
    "\n",
    "plt.title('Precio por metro cuadrado - TOP 10 [con subdivisiones de Palermo]', color = 'black')\n",
    "\n",
    "ax = top10.reset_index().plot(kind='bar', x = 'location', stacked=True, figsize=(16,8) ,alpha=0.75,\\\n",
    "                                 ax=f.gca(), color=(0.75, 0.25, 0.0))\n",
    "handles, labels = ax.get_legend_handles_labels()\n",
    "\n",
    "plt.legend(handles[::-1], labels[::-1], loc='upper right')\n",
    "\n",
    "ax.set_ylabel('Precio promedio metro cuadrado')\n",
    "ax.set_xlabel('Barrio')\n",
    "plt.show()"
   ]
  },
  {
   "cell_type": "markdown",
   "metadata": {},
   "source": [
    "#### Repetimos el analisis pero vamos a unificar todos los Palermos en uno solo"
   ]
  },
  {
   "cell_type": "markdown",
   "metadata": {},
   "source": [
    "    ~ Definimos una función que unifica a todos los palermos"
   ]
  },
  {
   "cell_type": "code",
   "execution_count": 28,
   "metadata": {
    "collapsed": true
   },
   "outputs": [],
   "source": [
    "def join_palermos(row):\n",
    "    if row.location.str.contains('Palermo').bool():\n",
    "        row.location = 'Palermo'\n",
    "        return row\n",
    "    return row"
   ]
  },
  {
   "cell_type": "markdown",
   "metadata": {},
   "source": [
    "    ~ Ahora se la aplicamos a todas las filas (necesitamos que location sea un elemento y no el indice)"
   ]
  },
  {
   "cell_type": "code",
   "execution_count": 29,
   "metadata": {},
   "outputs": [
    {
     "data": {
      "text/html": [
       "<div>\n",
       "<style>\n",
       "    .dataframe thead tr:only-child th {\n",
       "        text-align: right;\n",
       "    }\n",
       "\n",
       "    .dataframe thead th {\n",
       "        text-align: left;\n",
       "    }\n",
       "\n",
       "    .dataframe tbody tr th {\n",
       "        vertical-align: top;\n",
       "    }\n",
       "</style>\n",
       "<table border=\"1\" class=\"dataframe\">\n",
       "  <thead>\n",
       "    <tr>\n",
       "      <th></th>\n",
       "      <th>location</th>\n",
       "      <th>price</th>\n",
       "    </tr>\n",
       "    <tr>\n",
       "      <th></th>\n",
       "      <th></th>\n",
       "      <th>mean</th>\n",
       "    </tr>\n",
       "  </thead>\n",
       "  <tbody>\n",
       "    <tr>\n",
       "      <th>0</th>\n",
       "      <td>Abasto</td>\n",
       "      <td>2074.999669</td>\n",
       "    </tr>\n",
       "    <tr>\n",
       "      <th>1</th>\n",
       "      <td>Acassuso</td>\n",
       "      <td>2027.546447</td>\n",
       "    </tr>\n",
       "    <tr>\n",
       "      <th>2</th>\n",
       "      <td>Adrogué</td>\n",
       "      <td>1748.480784</td>\n",
       "    </tr>\n",
       "  </tbody>\n",
       "</table>\n",
       "</div>"
      ],
      "text/plain": [
       "   location        price\n",
       "                    mean\n",
       "0    Abasto  2074.999669\n",
       "1  Acassuso  2027.546447\n",
       "2   Adrogué  1748.480784"
      ]
     },
     "execution_count": 29,
     "metadata": {},
     "output_type": "execute_result"
    }
   ],
   "source": [
    "hoods_indexed = by_hood[[('price', 'mean')]].reset_index()\n",
    "hoods_indexed.head(3)"
   ]
  },
  {
   "cell_type": "markdown",
   "metadata": {},
   "source": [
    "    ~ Una vez que los tengo, necesito volver a hacer groupBy location"
   ]
  },
  {
   "cell_type": "code",
   "execution_count": 41,
   "metadata": {},
   "outputs": [
    {
     "data": {
      "text/html": [
       "<div>\n",
       "<style>\n",
       "    .dataframe thead tr:only-child th {\n",
       "        text-align: right;\n",
       "    }\n",
       "\n",
       "    .dataframe thead th {\n",
       "        text-align: left;\n",
       "    }\n",
       "\n",
       "    .dataframe tbody tr th {\n",
       "        vertical-align: top;\n",
       "    }\n",
       "</style>\n",
       "<table border=\"1\" class=\"dataframe\">\n",
       "  <thead>\n",
       "    <tr>\n",
       "      <th></th>\n",
       "      <th>price</th>\n",
       "    </tr>\n",
       "    <tr>\n",
       "      <th></th>\n",
       "      <th>mean</th>\n",
       "    </tr>\n",
       "    <tr>\n",
       "      <th></th>\n",
       "      <th>mean</th>\n",
       "    </tr>\n",
       "    <tr>\n",
       "      <th>location</th>\n",
       "      <th></th>\n",
       "    </tr>\n",
       "  </thead>\n",
       "  <tbody>\n",
       "    <tr>\n",
       "      <th>Olivos</th>\n",
       "      <td>2737.368578</td>\n",
       "    </tr>\n",
       "    <tr>\n",
       "      <th>Once</th>\n",
       "      <td>1952.103003</td>\n",
       "    </tr>\n",
       "    <tr>\n",
       "      <th>Palermo</th>\n",
       "      <td>3518.593134</td>\n",
       "    </tr>\n",
       "    <tr>\n",
       "      <th>Parque Avellaneda</th>\n",
       "      <td>1483.603986</td>\n",
       "    </tr>\n",
       "    <tr>\n",
       "      <th>Parque Centenario</th>\n",
       "      <td>2217.724739</td>\n",
       "    </tr>\n",
       "  </tbody>\n",
       "</table>\n",
       "</div>"
      ],
      "text/plain": [
       "                         price\n",
       "                          mean\n",
       "                          mean\n",
       "location                      \n",
       "Olivos             2737.368578\n",
       "Once               1952.103003\n",
       "Palermo            3518.593134\n",
       "Parque Avellaneda  1483.603986\n",
       "Parque Centenario  2217.724739"
      ]
     },
     "execution_count": 41,
     "metadata": {},
     "output_type": "execute_result"
    }
   ],
   "source": [
    "hoods_one_palermo = hoods_indexed.apply(join_palermos, axis = 1)\n",
    "hoods = hoods_one_palermo.groupby('location').agg([np.mean])\n",
    "hoods[105:110]"
   ]
  },
  {
   "cell_type": "code",
   "execution_count": 131,
   "metadata": {},
   "outputs": [
    {
     "data": {
      "text/html": [
       "<div>\n",
       "<style>\n",
       "    .dataframe thead tr:only-child th {\n",
       "        text-align: right;\n",
       "    }\n",
       "\n",
       "    .dataframe thead th {\n",
       "        text-align: left;\n",
       "    }\n",
       "\n",
       "    .dataframe tbody tr th {\n",
       "        vertical-align: top;\n",
       "    }\n",
       "</style>\n",
       "<table border=\"1\" class=\"dataframe\">\n",
       "  <thead>\n",
       "    <tr style=\"text-align: right;\">\n",
       "      <th></th>\n",
       "      <th>price</th>\n",
       "    </tr>\n",
       "    <tr>\n",
       "      <th>location</th>\n",
       "      <th></th>\n",
       "    </tr>\n",
       "  </thead>\n",
       "  <tbody>\n",
       "    <tr>\n",
       "      <th>Abasto</th>\n",
       "      <td>2074.999669</td>\n",
       "    </tr>\n",
       "    <tr>\n",
       "      <th>Acassuso</th>\n",
       "      <td>2027.546447</td>\n",
       "    </tr>\n",
       "    <tr>\n",
       "      <th>Adrogué</th>\n",
       "      <td>1748.480784</td>\n",
       "    </tr>\n",
       "    <tr>\n",
       "      <th>Agronomía</th>\n",
       "      <td>2062.602854</td>\n",
       "    </tr>\n",
       "    <tr>\n",
       "      <th>Almagro</th>\n",
       "      <td>2179.753288</td>\n",
       "    </tr>\n",
       "  </tbody>\n",
       "</table>\n",
       "</div>"
      ],
      "text/plain": [
       "                 price\n",
       "location              \n",
       "Abasto     2074.999669\n",
       "Acassuso   2027.546447\n",
       "Adrogué    1748.480784\n",
       "Agronomía  2062.602854\n",
       "Almagro    2179.753288"
      ]
     },
     "execution_count": 131,
     "metadata": {},
     "output_type": "execute_result"
    }
   ],
   "source": [
    "hoods.columns = [['price']]\n",
    "hoods.head()"
   ]
  },
  {
   "cell_type": "markdown",
   "metadata": {},
   "source": [
    "#### Ahora volvemos a ordenarlos y tomar el top10"
   ]
  },
  {
   "cell_type": "code",
   "execution_count": 132,
   "metadata": {},
   "outputs": [
    {
     "data": {
      "text/html": [
       "<div>\n",
       "<style>\n",
       "    .dataframe thead tr:only-child th {\n",
       "        text-align: right;\n",
       "    }\n",
       "\n",
       "    .dataframe thead th {\n",
       "        text-align: left;\n",
       "    }\n",
       "\n",
       "    .dataframe tbody tr th {\n",
       "        vertical-align: top;\n",
       "    }\n",
       "</style>\n",
       "<table border=\"1\" class=\"dataframe\">\n",
       "  <thead>\n",
       "    <tr style=\"text-align: right;\">\n",
       "      <th></th>\n",
       "      <th>price</th>\n",
       "    </tr>\n",
       "    <tr>\n",
       "      <th>location</th>\n",
       "      <th></th>\n",
       "    </tr>\n",
       "  </thead>\n",
       "  <tbody>\n",
       "    <tr>\n",
       "      <th>Puerto Madero</th>\n",
       "      <td>5657.858638</td>\n",
       "    </tr>\n",
       "    <tr>\n",
       "      <th>Las Cañitas</th>\n",
       "      <td>3612.709961</td>\n",
       "    </tr>\n",
       "    <tr>\n",
       "      <th>Palermo</th>\n",
       "      <td>3518.593134</td>\n",
       "    </tr>\n",
       "    <tr>\n",
       "      <th>Recoleta</th>\n",
       "      <td>3316.277038</td>\n",
       "    </tr>\n",
       "    <tr>\n",
       "      <th>Belgrano</th>\n",
       "      <td>3124.067558</td>\n",
       "    </tr>\n",
       "    <tr>\n",
       "      <th>Nuñez</th>\n",
       "      <td>3056.076175</td>\n",
       "    </tr>\n",
       "    <tr>\n",
       "      <th>Barrio Norte</th>\n",
       "      <td>2949.572636</td>\n",
       "    </tr>\n",
       "    <tr>\n",
       "      <th>Vicente López</th>\n",
       "      <td>2925.222557</td>\n",
       "    </tr>\n",
       "    <tr>\n",
       "      <th>Retiro</th>\n",
       "      <td>2783.694813</td>\n",
       "    </tr>\n",
       "    <tr>\n",
       "      <th>Olivos</th>\n",
       "      <td>2737.368578</td>\n",
       "    </tr>\n",
       "  </tbody>\n",
       "</table>\n",
       "</div>"
      ],
      "text/plain": [
       "                     price\n",
       "location                  \n",
       "Puerto Madero  5657.858638\n",
       "Las Cañitas    3612.709961\n",
       "Palermo        3518.593134\n",
       "Recoleta       3316.277038\n",
       "Belgrano       3124.067558\n",
       "Nuñez          3056.076175\n",
       "Barrio Norte   2949.572636\n",
       "Vicente López  2925.222557\n",
       "Retiro         2783.694813\n",
       "Olivos         2737.368578"
      ]
     },
     "execution_count": 132,
     "metadata": {},
     "output_type": "execute_result"
    }
   ],
   "source": [
    "top10_op = hoods.sort_values('price', ascending = False)[:10]\n",
    "top10_op"
   ]
  },
  {
   "cell_type": "markdown",
   "metadata": {},
   "source": [
    "##### PLOT TOP10 SIN DIVISIONES DE PALERMO"
   ]
  },
  {
   "cell_type": "code",
   "execution_count": 187,
   "metadata": {},
   "outputs": [
    {
     "data": {
      "image/png": "[encoded data removed]",
      "text/plain": [
       "<matplotlib.figure.Figure at 0x7f40eeb4a210>"
      ]
     },
     "metadata": {},
     "output_type": "display_data"
    }
   ],
   "source": [
    "f = plt.figure()\n",
    "\n",
    "plt.title('Precio por metro cuadrado - TOP 10 [sin subdivisiones de Palermo]', color = 'black')\n",
    "\n",
    "ax = top10_op.reset_index().plot(kind='bar', x = 'location', stacked=True, figsize=(16,8) ,alpha=0.75,\\\n",
    "                                 ax=f.gca(), color=(0.75, 0.0, 0.0))\n",
    "handles, labels = ax.get_legend_handles_labels()\n",
    "\n",
    "plt.legend(handles[::-1], labels[::-1], loc='upper right')\n",
    "\n",
    "ax.set_ylabel('Precio promedio metro cuadrado')\n",
    "ax.set_xlabel('Barrio')\n",
    "plt.show()"
   ]
  },
  {
   "cell_type": "markdown",
   "metadata": {},
   "source": [
    "### ¿Cuales son los 10 barrios más baratos?"
   ]
  },
  {
   "cell_type": "code",
   "execution_count": 194,
   "metadata": {},
   "outputs": [
    {
     "data": {
      "text/html": [
       "<div>\n",
       "<style>\n",
       "    .dataframe thead tr:only-child th {\n",
       "        text-align: right;\n",
       "    }\n",
       "\n",
       "    .dataframe thead th {\n",
       "        text-align: left;\n",
       "    }\n",
       "\n",
       "    .dataframe tbody tr th {\n",
       "        vertical-align: top;\n",
       "    }\n",
       "</style>\n",
       "<table border=\"1\" class=\"dataframe\">\n",
       "  <thead>\n",
       "    <tr style=\"text-align: right;\">\n",
       "      <th></th>\n",
       "      <th>price</th>\n",
       "    </tr>\n",
       "    <tr>\n",
       "      <th>location</th>\n",
       "      <th></th>\n",
       "    </tr>\n",
       "  </thead>\n",
       "  <tbody>\n",
       "    <tr>\n",
       "      <th>Ingeniero Pablo Nogués</th>\n",
       "      <td>494.492459</td>\n",
       "    </tr>\n",
       "    <tr>\n",
       "      <th>Maschwitz</th>\n",
       "      <td>548.526729</td>\n",
       "    </tr>\n",
       "    <tr>\n",
       "      <th>Villa Udaondo</th>\n",
       "      <td>558.414760</td>\n",
       "    </tr>\n",
       "    <tr>\n",
       "      <th>Parque Leloir</th>\n",
       "      <td>579.887696</td>\n",
       "    </tr>\n",
       "    <tr>\n",
       "      <th>Presidente Perón</th>\n",
       "      <td>643.338286</td>\n",
       "    </tr>\n",
       "    <tr>\n",
       "      <th>Benavidez</th>\n",
       "      <td>705.642928</td>\n",
       "    </tr>\n",
       "    <tr>\n",
       "      <th>José C Paz</th>\n",
       "      <td>711.678865</td>\n",
       "    </tr>\n",
       "    <tr>\n",
       "      <th>Villa Libertad</th>\n",
       "      <td>743.365341</td>\n",
       "    </tr>\n",
       "    <tr>\n",
       "      <th>Longchamps</th>\n",
       "      <td>800.581551</td>\n",
       "    </tr>\n",
       "    <tr>\n",
       "      <th>Burzaco</th>\n",
       "      <td>804.866729</td>\n",
       "    </tr>\n",
       "  </tbody>\n",
       "</table>\n",
       "</div>"
      ],
      "text/plain": [
       "                             price\n",
       "location                          \n",
       "Ingeniero Pablo Nogués  494.492459\n",
       "Maschwitz               548.526729\n",
       "Villa Udaondo           558.414760\n",
       "Parque Leloir           579.887696\n",
       "Presidente Perón        643.338286\n",
       "Benavidez               705.642928\n",
       "José C Paz              711.678865\n",
       "Villa Libertad          743.365341\n",
       "Longchamps              800.581551\n",
       "Burzaco                 804.866729"
      ]
     },
     "execution_count": 194,
     "metadata": {},
     "output_type": "execute_result"
    }
   ],
   "source": [
    "bottom10 = by_hood[[('price', 'mean')]].sort_values(('price', 'mean'), ascending = True)[0:10]\n",
    "bottom10.columns = [['price']]\n",
    "bottom10"
   ]
  },
  {
   "cell_type": "code",
   "execution_count": 198,
   "metadata": {},
   "outputs": [
    {
     "data": {
      "image/png": "[encoded data removed]",
      "text/plain": [
       "<matplotlib.figure.Figure at 0x7f40f01c4310>"
      ]
     },
     "metadata": {},
     "output_type": "display_data"
    }
   ],
   "source": [
    "f = plt.figure()\n",
    "\n",
    "plt.title('Precio por metro cuadrado - BOTTOM 10', color = 'black')\n",
    "\n",
    "ax = bottom10.reset_index().plot(kind='bar', x = 'location', stacked=True, figsize=(16,8) ,alpha=0.75,\\\n",
    "                                 ax=f.gca(), color=(0.0, 0.0, 0.85))\n",
    "handles, labels = ax.get_legend_handles_labels()\n",
    "\n",
    "plt.legend(handles[::-1], labels[::-1], loc='upper left')\n",
    "\n",
    "ax.set_ylabel('Precio promedio metro cuadrado')\n",
    "ax.set_xlabel('Barrio')\n",
    "plt.show()"
   ]
  },
  {
   "cell_type": "markdown",
   "metadata": {},
   "source": [
    "## De ahora en más usamos Palermo unificado"
   ]
  },
  {
   "cell_type": "markdown",
   "metadata": {},
   "source": [
    "### Vamos a analizar los barrios del 'centro' de la distribución, es decir, del 25% al 75%"
   ]
  },
  {
   "cell_type": "code",
   "execution_count": 203,
   "metadata": {},
   "outputs": [
    {
     "data": {
      "text/html": [
       "<div>\n",
       "<style>\n",
       "    .dataframe thead tr:only-child th {\n",
       "        text-align: right;\n",
       "    }\n",
       "\n",
       "    .dataframe thead th {\n",
       "        text-align: left;\n",
       "    }\n",
       "\n",
       "    .dataframe tbody tr th {\n",
       "        vertical-align: top;\n",
       "    }\n",
       "</style>\n",
       "<table border=\"1\" class=\"dataframe\">\n",
       "  <thead>\n",
       "    <tr style=\"text-align: right;\">\n",
       "      <th></th>\n",
       "      <th>price</th>\n",
       "    </tr>\n",
       "  </thead>\n",
       "  <tbody>\n",
       "    <tr>\n",
       "      <th>count</th>\n",
       "      <td>178.000000</td>\n",
       "    </tr>\n",
       "    <tr>\n",
       "      <th>mean</th>\n",
       "      <td>1644.227611</td>\n",
       "    </tr>\n",
       "    <tr>\n",
       "      <th>std</th>\n",
       "      <td>666.714969</td>\n",
       "    </tr>\n",
       "    <tr>\n",
       "      <th>min</th>\n",
       "      <td>494.492459</td>\n",
       "    </tr>\n",
       "    <tr>\n",
       "      <th>25%</th>\n",
       "      <td>1226.519412</td>\n",
       "    </tr>\n",
       "    <tr>\n",
       "      <th>50%</th>\n",
       "      <td>1512.075953</td>\n",
       "    </tr>\n",
       "    <tr>\n",
       "      <th>75%</th>\n",
       "      <td>1995.197656</td>\n",
       "    </tr>\n",
       "    <tr>\n",
       "      <th>max</th>\n",
       "      <td>5657.858638</td>\n",
       "    </tr>\n",
       "  </tbody>\n",
       "</table>\n",
       "</div>"
      ],
      "text/plain": [
       "             price\n",
       "count   178.000000\n",
       "mean   1644.227611\n",
       "std     666.714969\n",
       "min     494.492459\n",
       "25%    1226.519412\n",
       "50%    1512.075953\n",
       "75%    1995.197656\n",
       "max    5657.858638"
      ]
     },
     "execution_count": 203,
     "metadata": {},
     "output_type": "execute_result"
    }
   ],
   "source": [
    "hoods.describe()"
   ]
  },
  {
   "cell_type": "code",
   "execution_count": 202,
   "metadata": {},
   "outputs": [
    {
     "name": "stdout",
     "output_type": "stream",
     "text": [
      "price    44.5\n",
      "dtype: float64\n",
      "price    133.5\n",
      "dtype: float64\n"
     ]
    }
   ],
   "source": [
    "#25% al 75%\n",
    "print hoods.count()*0.25\n",
    "print hoods.count()*0.75"
   ]
  },
  {
   "cell_type": "markdown",
   "metadata": {},
   "source": [
    "    ~ Vemos que son casi 100 barrios los que se deben analizar"
   ]
  },
  {
   "cell_type": "markdown",
   "metadata": {},
   "source": [
    "#### Eliminamos aquellos barrios que tienen nombres como 'G.B.A. Zona Norte', pues no nos sirve para diferenciar correctamente"
   ]
  },
  {
   "cell_type": "code",
   "execution_count": 206,
   "metadata": {},
   "outputs": [],
   "source": [
    "hoods_named = hoods.reset_index()\n",
    "hoods_named = hoods_named[hoods_named.location.str.contains('G.B.A.') == False]"
   ]
  },
  {
   "cell_type": "code",
   "execution_count": 224,
   "metadata": {},
   "outputs": [],
   "source": [
    "middle_group = hoods_named.sort_values('price', ascending = False)[44:134]"
   ]
  },
  {
   "cell_type": "code",
   "execution_count": 227,
   "metadata": {},
   "outputs": [
    {
     "data": {
      "image/png": "[encoded data removed]",
      "text/plain": [
       "<matplotlib.figure.Figure at 0x7f40eef48050>"
      ]
     },
     "metadata": {},
     "output_type": "display_data"
    }
   ],
   "source": [
    "f = plt.figure()\n",
    "\n",
    "plt.title('Precio por metro cuadrado - Variacion en intervalo [25%-75%]', color = 'black')\n",
    "\n",
    "ax = middle_group.plot(kind='area', x = 'location', stacked=True, figsize=(16,8) ,alpha=0.75,\\\n",
    "                                 ax=f.gca(), rot = 90, color = (0.75, 0.75, 0.0))\n",
    "handles, labels = ax.get_legend_handles_labels()\n",
    "\n",
    "plt.legend(handles[::-1], labels[::-1], loc='upper right')\n",
    "\n",
    "ax.set_ylabel('Precio promedio metro cuadrado')\n",
    "ax.set_xlabel('Barrio')\n",
    "plt.show()"
   ]
  },
  {
   "cell_type": "markdown",
   "metadata": {},
   "source": [
    "### Grafico de area de todos los barrios para mostrar la variación"
   ]
  },
  {
   "cell_type": "code",
   "execution_count": 280,
   "metadata": {},
   "outputs": [
    {
     "data": {
      "image/png": "[encoded data removed]",
      "text/plain": [
       "<matplotlib.figure.Figure at 0x7f40ecec9110>"
      ]
     },
     "metadata": {},
     "output_type": "display_data"
    }
   ],
   "source": [
    "f = plt.figure()\n",
    "\n",
    "plt.title('Precio por metro cuadrado - Variacion Global', color = 'black')\n",
    "sorted_hoods = hoods_named.sort_values('price', ascending = False)\n",
    "ax = sorted_hoods.plot(kind='area', x = 'location', stacked=True, figsize=(16,8) ,alpha=1, lw = 0,\\\n",
    "                       ax=f.gca(), rot = 90, colormap = 'winter')\n",
    "handles, labels = ax.get_legend_handles_labels()\n",
    "\n",
    "plt.legend(handles[::-1], labels[::-1], loc='upper right')\n",
    "plt.axvspan(xmin = 0, xmax = 10, color = (0.8, 0.0, 0.0), alpha = 0.65)\n",
    "plt.axvspan(xmin = 10, xmax = 25, color = (0.75, 0.5, 0.0), alpha = 0.65)\n",
    "plt.axvspan(xmin = 25, xmax = 45, color = (0.75, 0.75, 0.0), alpha = 0.65)\n",
    "plt.axvspan(xmin = 45, xmax = 133, color = (0.5, 0.75, 0.0), alpha = 0.65)\n",
    "plt.axvspan(xmin = 133, xmax = 180, color = (0.0, 0.8, 0.0), alpha = 0.65)\n",
    "\n",
    "ax.set_ylabel('Precio promedio metro cuadrado')\n",
    "ax.set_xlabel('Barrio')\n",
    "plt.show()"
   ]
  },
  {
   "cell_type": "code",
   "execution_count": null,
   "metadata": {
    "collapsed": true
   },
   "outputs": [],
   "source": []
  }
 ],
 "metadata": {
  "kernelspec": {
   "display_name": "Python 2",
   "language": "python",
   "name": "python2"
  },
  "language_info": {
   "codemirror_mode": {
    "name": "ipython",
    "version": 2
   },
   "file_extension": ".py",
   "mimetype": "text/x-python",
   "name": "python",
   "nbconvert_exporter": "python",
   "pygments_lexer": "ipython2",
   "version": "2.7.13"
  }
 },
 "nbformat": 4,
 "nbformat_minor": 2
}

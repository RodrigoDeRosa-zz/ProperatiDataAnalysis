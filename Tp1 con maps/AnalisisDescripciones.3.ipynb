{
 "cells": [
  {
   "cell_type": "code",
   "execution_count": 4,
   "metadata": {
    "collapsed": true
   },
   "outputs": [],
   "source": [
    "import pandas as pd\n",
    "import numpy as np\n",
    "import matplotlib.pyplot as plt\n",
    "import html5lib\n",
    "from bs4 import BeautifulSoup as bs\n",
    "from urllib import urlopen\n",
    "%matplotlib inline"
   ]
  },
  {
   "cell_type": "markdown",
   "metadata": {},
   "source": [
    "# Probamos cargar una sola URL"
   ]
  },
  {
   "cell_type": "code",
   "execution_count": 5,
   "metadata": {},
   "outputs": [
    {
     "name": "stdout",
     "output_type": "stream",
     "text": [
      "[u'Ambientes: 2', u'Dormitorios: 1', u'Superficie Cubierta: 42', u'Orientaci\\xf3n: lateral', u'CALEFACCION: RADIADORES', u'PISOS: FLOTANTE DE MADERA - PORCELANATO', u'CARPINTERIA: TODA EN CEDRO A MEDIDA', u'Actualizado al: 05 de septiembre', u'Fecha de publicaci\\xf3n: 01 de noviembre', u'Expensas: Consultar expensas']\n"
     ]
    }
   ],
   "source": [
    "#Prueba de una sola\n",
    "\n",
    "url = \"http://www.properati.com.ar/336o_venta_departamento_macrocentro\"\n",
    "\n",
    "html = urlopen(url)\n",
    "soup = bs(html)\n",
    "type(soup)\n",
    "\n",
    "b = [li.getText() for li in soup.findAll('ul', limit=4)[3].findAll('li') ]\n",
    "print b"
   ]
  },
  {
   "cell_type": "code",
   "execution_count": 7,
   "metadata": {},
   "outputs": [
    {
     "data": {
      "text/plain": [
       "True"
      ]
     },
     "execution_count": 7,
     "metadata": {},
     "output_type": "execute_result"
    }
   ],
   "source": [
    "'Ambientes' in b\n",
    "'Ambientes' in b[0]"
   ]
  },
  {
   "cell_type": "markdown",
   "metadata": {},
   "source": [
    "# Procesamos el conjunto de datos."
   ]
  },
  {
   "cell_type": "code",
   "execution_count": 8,
   "metadata": {
    "collapsed": true
   },
   "outputs": [],
   "source": [
    "#Cargo toda la info\n",
    "propertyData = pd.read_csv('../../properati-AR-2017-08-01-properties-sell.csv')\n",
    "propertyData = propertyData[(propertyData['price_aprox_usd'].isnull() == False)]"
   ]
  },
  {
   "cell_type": "code",
   "execution_count": 7,
   "metadata": {},
   "outputs": [
    {
     "name": "stdout",
     "output_type": "stream",
     "text": [
      "<class 'pandas.core.frame.DataFrame'>\n",
      "Int64Index: 154443 entries, 0 to 187480\n",
      "Data columns (total 27 columns):\n",
      "id                            154443 non-null object\n",
      "created_on                    154443 non-null object\n",
      "operation                     154443 non-null object\n",
      "property_type                 154443 non-null object\n",
      "place_name                    154409 non-null object\n",
      "place_with_parent_names       154443 non-null object\n",
      "country_name                  154443 non-null object\n",
      "state_name                    154443 non-null object\n",
      "geonames_id                   128230 non-null float64\n",
      "lat-lon                       97525 non-null object\n",
      "lat                           97525 non-null float64\n",
      "lon                           97525 non-null float64\n",
      "price                         154443 non-null float64\n",
      "currency                      154441 non-null object\n",
      "price_aprox_local_currency    154443 non-null float64\n",
      "price_aprox_usd               154443 non-null float64\n",
      "surface_total_in_m2           105514 non-null float64\n",
      "surface_covered_in_m2         131668 non-null float64\n",
      "price_usd_per_m2              105024 non-null float64\n",
      "price_per_m2                  131665 non-null float64\n",
      "floor                         12630 non-null float64\n",
      "rooms                         66760 non-null float64\n",
      "expenses                      16186 non-null float64\n",
      "properati_url                 154443 non-null object\n",
      "description                   154435 non-null object\n",
      "title                         154443 non-null object\n",
      "image_thumbnail               151057 non-null object\n",
      "dtypes: float64(13), object(14)\n",
      "memory usage: 33.0+ MB\n"
     ]
    }
   ],
   "source": [
    "propertyData.info()\n",
    "#Todas tienen la url."
   ]
  },
  {
   "cell_type": "code",
   "execution_count": 9,
   "metadata": {
    "collapsed": true
   },
   "outputs": [],
   "source": [
    "def cargarURL(x):\n",
    "    html = urlopen(x)\n",
    "    soup = bs(html)\n",
    "    b = [li.getText() for li in soup.findAll('ul', limit=4)[3].findAll('li') ]\n",
    "    return b"
   ]
  },
  {
   "cell_type": "code",
   "execution_count": null,
   "metadata": {
    "collapsed": true
   },
   "outputs": [],
   "source": [
    "#Nos quedamos con la url\n",
    "direcciones = propertyData[['properati_url']]\n",
    "caracteristicas = direcciones['properati_url'].apply(lambda x: cargarURL( x ))"
   ]
  },
  {
   "cell_type": "code",
   "execution_count": 24,
   "metadata": {},
   "outputs": [
    {
     "name": "stdout",
     "output_type": "stream",
     "text": [
      "properati_url    [Baños: 2, Superficie Cubierta: 93, Superficie...\n",
      "dtype: object\n"
     ]
    }
   ],
   "source": [
    "print caracteristicas"
   ]
  }
 ],
 "metadata": {
  "kernelspec": {
   "display_name": "Python 2",
   "language": "python",
   "name": "python2"
  },
  "language_info": {
   "codemirror_mode": {
    "name": "ipython",
    "version": 2
   },
   "file_extension": ".py",
   "mimetype": "text/x-python",
   "name": "python",
   "nbconvert_exporter": "python",
   "pygments_lexer": "ipython2",
   "version": "2.7.13"
  }
 },
 "nbformat": 4,
 "nbformat_minor": 2
}

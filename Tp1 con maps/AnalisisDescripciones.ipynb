{
 "cells": [
  {
   "cell_type": "code",
   "execution_count": 1,
   "metadata": {
    "collapsed": true
   },
   "outputs": [],
   "source": [
    "import pandas as pd\n",
    "import numpy as np\n",
    "import matplotlib.pyplot as plt\n",
    "%matplotlib inline"
   ]
  },
  {
   "cell_type": "code",
   "execution_count": 2,
   "metadata": {
    "collapsed": true
   },
   "outputs": [],
   "source": [
    "property_data = pd.read_csv('../../properati-AR-2017-08-01-properties-sell.csv')"
   ]
  },
  {
   "cell_type": "markdown",
   "metadata": {},
   "source": [
    "# ANALISIS DE LAS DESCRIPCIONES"
   ]
  },
  {
   "cell_type": "code",
   "execution_count": 3,
   "metadata": {},
   "outputs": [
    {
     "name": "stdout",
     "output_type": "stream",
     "text": [
      "<class 'pandas.core.frame.DataFrame'>\n",
      "RangeIndex: 187482 entries, 0 to 187481\n",
      "Data columns (total 27 columns):\n",
      "id                            187482 non-null object\n",
      "created_on                    187482 non-null object\n",
      "operation                     187482 non-null object\n",
      "property_type                 187482 non-null object\n",
      "place_name                    187447 non-null object\n",
      "place_with_parent_names       187482 non-null object\n",
      "country_name                  187482 non-null object\n",
      "state_name                    187482 non-null object\n",
      "geonames_id                   158318 non-null float64\n",
      "lat-lon                       118761 non-null object\n",
      "lat                           118761 non-null float64\n",
      "lon                           118761 non-null float64\n",
      "price                         154443 non-null float64\n",
      "currency                      154441 non-null object\n",
      "price_aprox_local_currency    154443 non-null float64\n",
      "price_aprox_usd               154443 non-null float64\n",
      "surface_total_in_m2           125027 non-null float64\n",
      "surface_covered_in_m2         152420 non-null float64\n",
      "price_usd_per_m2              105024 non-null float64\n",
      "price_per_m2                  131665 non-null float64\n",
      "floor                         14294 non-null float64\n",
      "rooms                         80320 non-null float64\n",
      "expenses                      17520 non-null float64\n",
      "properati_url                 187482 non-null object\n",
      "description                   187473 non-null object\n",
      "title                         187482 non-null object\n",
      "image_thumbnail               182814 non-null object\n",
      "dtypes: float64(13), object(14)\n",
      "memory usage: 38.6+ MB\n"
     ]
    }
   ],
   "source": [
    "#Primero vamos a ver cuantas propiedades tienen descripciones y cuantas titulo.\n",
    "property_data.info()"
   ]
  },
  {
   "cell_type": "raw",
   "metadata": {},
   "source": [
    "De 187482 datos totales, tenemos:\n",
    "    descripcion = 187473 --> faltan 9 descripciones.\n",
    "    titulo = 187482 --> falta 1 titulo."
   ]
  },
  {
   "cell_type": "markdown",
   "metadata": {},
   "source": [
    "## Analisis de los titulos."
   ]
  },
  {
   "cell_type": "code",
   "execution_count": 91,
   "metadata": {
    "collapsed": true
   },
   "outputs": [],
   "source": [
    "def parseoTitulo(x):\n",
    "    \n",
    "    tipo = \"\"\n",
    "    tiposViviendas = ['casa', 'ph','p.h.', 'departamento','depto','dpto','dto',\n",
    "                      'chalet','duplex','duples','triplex','edificio','semipiso','piso',\n",
    "                      'p.baja','planta baja', 'p.b.','casona', 'loft', 'cabaña', 'mansion',\n",
    "                      'local','quinta','bungalow','oficina',\n",
    "                      'terreno','lote']\n",
    "    x=x.lower()\n",
    "    \n",
    "    for i in tiposViviendas:\n",
    "        aux = \"\"\n",
    "        \n",
    "        if( x.find(i) >= 0 ):\n",
    "            aux += i\n",
    "        if( aux != \"\" and aux not in tipo):\n",
    "            tipo+=aux\n",
    "            tipo+=\" \"\n",
    "\n",
    "    if(tipo !=\"\"): return tipo\n",
    "    return x\n",
    "\n",
    "def parseoCaracteristica(x):\n",
    "    \n",
    "    caract = []\n",
    "    caractViviendas = ['estrenar','nueva', \n",
    "                       'monoambiente','ambiente','amb', \n",
    "                       'dormitorio','dorm','hab','habitaciones',\n",
    "                       'baño','estac', 'estacionamiento','cochera','balcon',\"pileta\"]\n",
    "    x=x.lower()\n",
    "    \n",
    "    for j in caractViviendas:\n",
    "        aux = \"\"\n",
    "        indice = x.find(j)\n",
    "        if( indice >=0 ):\n",
    "            \n",
    "            if( j not in caract ):\n",
    "                \"Si son ambientes, vemos cuantos\"\n",
    "                if(j == 'ambiente' or j=='amb'):\n",
    "                    aux = x[indice - 2]\n",
    "                    aux += \" \"\n",
    "                \n",
    "                aux += j\n",
    "                caract.append( aux )\n",
    "                \n",
    "    if(len(caract) != 0): return caract\n",
    "    return x\n",
    "\n",
    "\n",
    "def separarCaracteristicas(x, indice):\n",
    "        return x[indice]"
   ]
  },
  {
   "cell_type": "code",
   "execution_count": 92,
   "metadata": {},
   "outputs": [
    {
     "name": "stderr",
     "output_type": "stream",
     "text": [
      "/home/facundo/.local/lib/python2.7/site-packages/ipykernel_launcher.py:12: SettingWithCopyWarning: \n",
      "A value is trying to be set on a copy of a slice from a DataFrame.\n",
      "Try using .loc[row_indexer,col_indexer] = value instead\n",
      "\n",
      "See the caveats in the documentation: http://pandas.pydata.org/pandas-docs/stable/indexing.html#indexing-view-versus-copy\n",
      "  if sys.path[0] == '':\n"
     ]
    },
    {
     "data": {
      "text/html": [
       "<div>\n",
       "<style>\n",
       "    .dataframe thead tr:only-child th {\n",
       "        text-align: right;\n",
       "    }\n",
       "\n",
       "    .dataframe thead th {\n",
       "        text-align: left;\n",
       "    }\n",
       "\n",
       "    .dataframe tbody tr th {\n",
       "        vertical-align: top;\n",
       "    }\n",
       "</style>\n",
       "<table border=\"1\" class=\"dataframe\">\n",
       "  <thead>\n",
       "    <tr style=\"text-align: right;\">\n",
       "      <th></th>\n",
       "      <th>caracteristicas</th>\n",
       "      <th>id</th>\n",
       "      <th>tipo</th>\n",
       "      <th>price_per_m2</th>\n",
       "    </tr>\n",
       "  </thead>\n",
       "  <tbody>\n",
       "    <tr>\n",
       "      <th>0</th>\n",
       "      <td>casa en venta</td>\n",
       "      <td>c8a66ee9e3da083ab66dacd165e8a5cc718b1cf2</td>\n",
       "      <td>casa</td>\n",
       "      <td>1290.322581</td>\n",
       "    </tr>\n",
       "    <tr>\n",
       "      <th>1</th>\n",
       "      <td>casa en venta</td>\n",
       "      <td>a205c53378e7879cf7519659317fb410c060d20e</td>\n",
       "      <td>casa</td>\n",
       "      <td>1000.000000</td>\n",
       "    </tr>\n",
       "    <tr>\n",
       "      <th>2</th>\n",
       "      <td>[2 amb]</td>\n",
       "      <td>e06d6f864a0b91346594da4d27ceddcef0947ea6</td>\n",
       "      <td>dto</td>\n",
       "      <td>NaN</td>\n",
       "    </tr>\n",
       "    <tr>\n",
       "      <th>3</th>\n",
       "      <td>chalet en venta</td>\n",
       "      <td>a07927207d2a03de5f4ba7fd76f670d6285a3315</td>\n",
       "      <td>chalet</td>\n",
       "      <td>NaN</td>\n",
       "    </tr>\n",
       "    <tr>\n",
       "      <th>4</th>\n",
       "      <td>casa en venta</td>\n",
       "      <td>9446052c949050359fb08b9f1ba83ba2eaa20c99</td>\n",
       "      <td>casa</td>\n",
       "      <td>1796.116505</td>\n",
       "    </tr>\n",
       "    <tr>\n",
       "      <th>5</th>\n",
       "      <td>departamento en venta ubicado en arcos de pilar</td>\n",
       "      <td>4d3b492ed5f9c74cdf33b56b98328e5c950e3f9c</td>\n",
       "      <td>departamento</td>\n",
       "      <td>1796.296296</td>\n",
       "    </tr>\n",
       "    <tr>\n",
       "      <th>6</th>\n",
       "      <td>local en venta ubicado en san isidro</td>\n",
       "      <td>535441f569473f6e5d687c38b27d9b9c6e69e284</td>\n",
       "      <td>local</td>\n",
       "      <td>NaN</td>\n",
       "    </tr>\n",
       "    <tr>\n",
       "      <th>7</th>\n",
       "      <td>[2 ambiente, 2 amb]</td>\n",
       "      <td>7188b6176d94ef327da690749469b6065acd7426</td>\n",
       "      <td>departamento</td>\n",
       "      <td>NaN</td>\n",
       "    </tr>\n",
       "    <tr>\n",
       "      <th>8</th>\n",
       "      <td>casa en venta ubicado en quilquihue</td>\n",
       "      <td>27d87ac71e7c00afa9fa7428b943ec263ff68bb4</td>\n",
       "      <td>casa</td>\n",
       "      <td>1846.153846</td>\n",
       "    </tr>\n",
       "    <tr>\n",
       "      <th>9</th>\n",
       "      <td>casa en venta ubicado en rio hermoso</td>\n",
       "      <td>df77a06585671e637d2d86f8d22b70d61cfecb18</td>\n",
       "      <td>casa</td>\n",
       "      <td>1875.000000</td>\n",
       "    </tr>\n",
       "  </tbody>\n",
       "</table>\n",
       "</div>"
      ],
      "text/plain": [
       "                                   caracteristicas  \\\n",
       "0                                    casa en venta   \n",
       "1                                    casa en venta   \n",
       "2                                          [2 amb]   \n",
       "3                                 chalet en venta    \n",
       "4                                    casa en venta   \n",
       "5  departamento en venta ubicado en arcos de pilar   \n",
       "6             local en venta ubicado en san isidro   \n",
       "7                              [2 ambiente, 2 amb]   \n",
       "8              casa en venta ubicado en quilquihue   \n",
       "9             casa en venta ubicado en rio hermoso   \n",
       "\n",
       "                                         id           tipo  price_per_m2  \n",
       "0  c8a66ee9e3da083ab66dacd165e8a5cc718b1cf2          casa    1290.322581  \n",
       "1  a205c53378e7879cf7519659317fb410c060d20e          casa    1000.000000  \n",
       "2  e06d6f864a0b91346594da4d27ceddcef0947ea6           dto            NaN  \n",
       "3  a07927207d2a03de5f4ba7fd76f670d6285a3315        chalet            NaN  \n",
       "4  9446052c949050359fb08b9f1ba83ba2eaa20c99          casa    1796.116505  \n",
       "5  4d3b492ed5f9c74cdf33b56b98328e5c950e3f9c  departamento    1796.296296  \n",
       "6  535441f569473f6e5d687c38b27d9b9c6e69e284         local            NaN  \n",
       "7  7188b6176d94ef327da690749469b6065acd7426  departamento            NaN  \n",
       "8  27d87ac71e7c00afa9fa7428b943ec263ff68bb4          casa    1846.153846  \n",
       "9  df77a06585671e637d2d86f8d22b70d61cfecb18          casa    1875.000000  "
      ]
     },
     "execution_count": 92,
     "metadata": {},
     "output_type": "execute_result"
    }
   ],
   "source": [
    "titulos = property_data[['title','price_per_m2','id']]\n",
    "\n",
    "#Vamos a intentar parsear por tipo de casa\n",
    "#Primero me quedo con los titulos antes de aplicar ninguna operacion\n",
    "caracteristicas = titulos[['title', 'id']]\n",
    "\n",
    "#Parseo el titulo y me quedo con el tipo de vivienda.\n",
    "tiposVivienda = titulos[['title', 'id', 'price_per_m2']]\n",
    "tiposVivienda['title'] = tiposVivienda['title'].apply(lambda x: parseoTipo(x))\n",
    "\n",
    "#Parseo el titulo y me quedo con las caracteristicas.\n",
    "caracteristicas['title'] = caracteristicas['title'].apply(lambda x: parseoCaracteristica(x))\n",
    "\n",
    "#Mergeo los dos separados\n",
    "completo = pd.merge(caracteristicas, tiposVivienda, on='id', how='inner')\n",
    "completo.rename(columns={'title_x':'caracteristicas'}, inplace=True)\n",
    "completo.rename(columns={'title_y':'tipo'}, inplace=True)\n",
    "\n",
    "completo.head(10)\n",
    "\n",
    "\"\"\"\n",
    "HAY MUY POCOS QUE TIENEN CARACTERISTICAS. HAY QUE VER SI CON LA DESCRIPCION PODEMOS EXPANDIR\n",
    "UN POCO MAS LA INFO. ES MUY POCA.\n",
    "\"\"\"\n"
   ]
  },
  {
   "cell_type": "code",
   "execution_count": null,
   "metadata": {
    "collapsed": true
   },
   "outputs": [],
   "source": [
    "\n",
    "#Agrupo por tipo de vivienda\n",
    "#ordenado = completo.groupby(['tipo','id','price_per_m2']).count().reset_index()\n",
    "\n",
    "\n",
    "#completo['tipo','id'].groupby(['tipo']).agg(np.size).head(10)\n",
    "#grouped = grouped.agg('caracteristicas')\n",
    "#grouped.head(10)\n",
    "#grouped = grouped.agg(np.size)\n",
    "#grouped.sort_values('caracteristicas', ascending =False).head(10)"
   ]
  }
 ],
 "metadata": {
  "kernelspec": {
   "display_name": "Python 2",
   "language": "python",
   "name": "python2"
  },
  "language_info": {
   "codemirror_mode": {
    "name": "ipython",
    "version": 2
   },
   "file_extension": ".py",
   "mimetype": "text/x-python",
   "name": "python",
   "nbconvert_exporter": "python",
   "pygments_lexer": "ipython2",
   "version": "2.7.13"
  }
 },
 "nbformat": 4,
 "nbformat_minor": 2
}

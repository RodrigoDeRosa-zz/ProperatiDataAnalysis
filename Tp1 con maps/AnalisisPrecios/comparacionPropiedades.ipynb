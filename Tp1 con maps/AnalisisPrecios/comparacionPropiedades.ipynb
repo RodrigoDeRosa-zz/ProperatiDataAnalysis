{
 "cells": [
  {
   "cell_type": "code",
   "execution_count": 1,
   "metadata": {
    "collapsed": true
   },
   "outputs": [],
   "source": [
    "import pandas as pd\n",
    "import numpy as np\n",
    "import matplotlib.pyplot as plt\n",
    "import cPickle as pickle\n",
    "%matplotlib inline"
   ]
  },
  {
   "cell_type": "markdown",
   "metadata": {},
   "source": [
    "# Cargamos los datos"
   ]
  },
  {
   "cell_type": "code",
   "execution_count": 2,
   "metadata": {
    "collapsed": true
   },
   "outputs": [],
   "source": [
    "propertyD = pickle.load(open(\"../../../datos/DataFrame.p\",\"rb\"))"
   ]
  },
  {
   "cell_type": "markdown",
   "metadata": {},
   "source": [
    "Lo que queremos hacer es analizar la variacion de los precios de las propiedades, a lo largo del tiempo.\n",
    "Entonces lo que vamos a hacer es ir agrupando las propiedades por meses y hacemos un promedio."
   ]
  },
  {
   "cell_type": "markdown",
   "metadata": {},
   "source": [
    "# Primero acomodo las fechas!"
   ]
  },
  {
   "cell_type": "code",
   "execution_count": 28,
   "metadata": {
    "collapsed": true
   },
   "outputs": [],
   "source": [
    "propiedades = propertyD[['id','created_on','price_aprox_usd','property_type']]"
   ]
  },
  {
   "cell_type": "code",
   "execution_count": 29,
   "metadata": {},
   "outputs": [
    {
     "name": "stderr",
     "output_type": "stream",
     "text": [
      "/home/facundo/.local/lib/python2.7/site-packages/ipykernel_launcher.py:2: SettingWithCopyWarning: \n",
      "A value is trying to be set on a copy of a slice from a DataFrame.\n",
      "Try using .loc[row_indexer,col_indexer] = value instead\n",
      "\n",
      "See the caveats in the documentation: http://pandas.pydata.org/pandas-docs/stable/indexing.html#indexing-view-versus-copy\n",
      "  \n",
      "/home/facundo/.local/lib/python2.7/site-packages/ipykernel_launcher.py:3: SettingWithCopyWarning: \n",
      "A value is trying to be set on a copy of a slice from a DataFrame.\n",
      "Try using .loc[row_indexer,col_indexer] = value instead\n",
      "\n",
      "See the caveats in the documentation: http://pandas.pydata.org/pandas-docs/stable/indexing.html#indexing-view-versus-copy\n",
      "  This is separate from the ipykernel package so we can avoid doing imports until\n",
      "/home/facundo/.local/lib/python2.7/site-packages/ipykernel_launcher.py:6: SettingWithCopyWarning: \n",
      "A value is trying to be set on a copy of a slice from a DataFrame.\n",
      "Try using .loc[row_indexer,col_indexer] = value instead\n",
      "\n",
      "See the caveats in the documentation: http://pandas.pydata.org/pandas-docs/stable/indexing.html#indexing-view-versus-copy\n",
      "  \n",
      "/home/facundo/.local/lib/python2.7/site-packages/ipykernel_launcher.py:7: SettingWithCopyWarning: \n",
      "A value is trying to be set on a copy of a slice from a DataFrame.\n",
      "Try using .loc[row_indexer,col_indexer] = value instead\n",
      "\n",
      "See the caveats in the documentation: http://pandas.pydata.org/pandas-docs/stable/indexing.html#indexing-view-versus-copy\n",
      "  import sys\n"
     ]
    }
   ],
   "source": [
    "#Le agrego una columna que es el año\n",
    "propiedades['year'] = propiedades['created_on']\n",
    "propiedades['year'] = propiedades['year'].apply(lambda x: int(x[0:4]))\n",
    "\n",
    "#Le agrego una columna que es el mes\n",
    "propiedades['month'] = propiedades['created_on']\n",
    "propiedades['month'] = propiedades['month'].apply(lambda x: int(x[5:7]))"
   ]
  },
  {
   "cell_type": "markdown",
   "metadata": {},
   "source": [
    "# Ahora paso a separar las propiedades por años"
   ]
  },
  {
   "cell_type": "code",
   "execution_count": 30,
   "metadata": {
    "collapsed": true
   },
   "outputs": [],
   "source": [
    "prop2013 = propiedades[ propiedades['year'] == 2013 ]\n",
    "prop2014 = propiedades[ propiedades['year'] == 2014 ]\n",
    "prop2015 = propiedades[ propiedades['year'] == 2015 ]\n",
    "prop2016 = propiedades[ propiedades['year'] == 2016 ]\n",
    "prop2017 = propiedades[ propiedades['year'] == 2017 ]"
   ]
  },
  {
   "cell_type": "code",
   "execution_count": 31,
   "metadata": {},
   "outputs": [],
   "source": [
    "c2013 = prop2013[prop2013['property_type']=='house']\n",
    "c2013 = c2013[['month','price_aprox_usd']].groupby('month').agg(np.mean)\n",
    "\n",
    "c2014 = prop2014[prop2014['property_type']=='house']\n",
    "c2014 = c2014[['month','price_aprox_usd']].groupby('month').agg(np.mean)\n",
    "\n",
    "c2015 = prop2015[prop2015['property_type']=='house']\n",
    "c2015 = c2015[['month','price_aprox_usd']].groupby('month').agg(np.mean)\n",
    "\n",
    "c2016 = prop2016[prop2016['property_type']=='house']\n",
    "c2016 = c2016[['month','price_aprox_usd']].groupby('month').agg(np.mean)\n",
    "\n",
    "c2017 = prop2017[prop2017['property_type']=='house']\n",
    "c2017 = c2017[['month','price_aprox_usd']].groupby('month').agg(np.mean)"
   ]
  },
  {
   "cell_type": "code",
   "execution_count": 32,
   "metadata": {
    "collapsed": true
   },
   "outputs": [],
   "source": [
    "d2013 = prop2013[prop2013['property_type']=='apartment']\n",
    "d2013 = d2013[['month','price_aprox_usd']].groupby('month').agg(np.mean)\n",
    "\n",
    "d2014 = prop2014[prop2014['property_type']=='apartment']\n",
    "d2014 = d2014[['month','price_aprox_usd']].groupby('month').agg(np.mean)\n",
    "\n",
    "d2015 = prop2015[prop2015['property_type']=='apartment']\n",
    "d2015 = d2015[['month','price_aprox_usd']].groupby('month').agg(np.mean)\n",
    "\n",
    "d2016 = prop2016[prop2016['property_type']=='apartment']\n",
    "d2016 = d2016[['month','price_aprox_usd']].groupby('month').agg(np.mean)\n",
    "\n",
    "d2017 = prop2017[prop2017['property_type']=='apartment']\n",
    "d2017 = d2017[['month','price_aprox_usd']].groupby('month').agg(np.mean)"
   ]
  },
  {
   "cell_type": "code",
   "execution_count": 33,
   "metadata": {
    "collapsed": true
   },
   "outputs": [],
   "source": [
    "p2013 = prop2013[prop2013['property_type']=='PH']\n",
    "p2013 = p2013[['month','price_aprox_usd']].groupby('month').agg(np.mean)\n",
    "\n",
    "p2014 = prop2014[prop2014['property_type']=='PH']\n",
    "p2014 = p2014[['month','price_aprox_usd']].groupby('month').agg(np.mean)\n",
    "\n",
    "p2015 = prop2015[prop2015['property_type']=='PH']\n",
    "p2015 = p2015[['month','price_aprox_usd']].groupby('month').agg(np.mean)\n",
    "\n",
    "p2016 = prop2016[prop2016['property_type']=='PH']\n",
    "p2016 = p2016[['month','price_aprox_usd']].groupby('month').agg(np.mean)\n",
    "\n",
    "p2017 = prop2017[prop2017['property_type']=='PH']\n",
    "p2017 = p2017[['month','price_aprox_usd']].groupby('month').agg(np.mean)"
   ]
  },
  {
   "cell_type": "code",
   "execution_count": 34,
   "metadata": {
    "collapsed": true
   },
   "outputs": [],
   "source": [
    "l=[1,2,3,4,5,6,7,8,9,10,11]"
   ]
  },
  {
   "cell_type": "code",
   "execution_count": 35,
   "metadata": {},
   "outputs": [
    {
     "data": {
      "text/html": [
       "<div>\n",
       "<style>\n",
       "    .dataframe thead tr:only-child th {\n",
       "        text-align: right;\n",
       "    }\n",
       "\n",
       "    .dataframe thead th {\n",
       "        text-align: left;\n",
       "    }\n",
       "\n",
       "    .dataframe tbody tr th {\n",
       "        vertical-align: top;\n",
       "    }\n",
       "</style>\n",
       "<table border=\"1\" class=\"dataframe\">\n",
       "  <thead>\n",
       "    <tr style=\"text-align: right;\">\n",
       "      <th></th>\n",
       "      <th>casas</th>\n",
       "      <th>deptos</th>\n",
       "      <th>ph</th>\n",
       "    </tr>\n",
       "    <tr>\n",
       "      <th>month</th>\n",
       "      <th></th>\n",
       "      <th></th>\n",
       "      <th></th>\n",
       "    </tr>\n",
       "  </thead>\n",
       "  <tbody>\n",
       "    <tr>\n",
       "      <th>2</th>\n",
       "      <td>390000.000000</td>\n",
       "      <td>275000.000000</td>\n",
       "      <td>NaN</td>\n",
       "    </tr>\n",
       "    <tr>\n",
       "      <th>3</th>\n",
       "      <td>550000.000000</td>\n",
       "      <td>115166.666667</td>\n",
       "      <td>NaN</td>\n",
       "    </tr>\n",
       "    <tr>\n",
       "      <th>4</th>\n",
       "      <td>720000.000000</td>\n",
       "      <td>100000.000000</td>\n",
       "      <td>NaN</td>\n",
       "    </tr>\n",
       "    <tr>\n",
       "      <th>5</th>\n",
       "      <td>199644.086022</td>\n",
       "      <td>139979.209877</td>\n",
       "      <td>122352.941176</td>\n",
       "    </tr>\n",
       "    <tr>\n",
       "      <th>6</th>\n",
       "      <td>391111.111111</td>\n",
       "      <td>115833.333333</td>\n",
       "      <td>NaN</td>\n",
       "    </tr>\n",
       "    <tr>\n",
       "      <th>7</th>\n",
       "      <td>192727.272727</td>\n",
       "      <td>136320.454545</td>\n",
       "      <td>NaN</td>\n",
       "    </tr>\n",
       "    <tr>\n",
       "      <th>8</th>\n",
       "      <td>183777.777778</td>\n",
       "      <td>101666.666667</td>\n",
       "      <td>57500.000000</td>\n",
       "    </tr>\n",
       "    <tr>\n",
       "      <th>9</th>\n",
       "      <td>169000.000000</td>\n",
       "      <td>86166.666667</td>\n",
       "      <td>NaN</td>\n",
       "    </tr>\n",
       "    <tr>\n",
       "      <th>10</th>\n",
       "      <td>332500.000000</td>\n",
       "      <td>87571.428571</td>\n",
       "      <td>92333.333333</td>\n",
       "    </tr>\n",
       "    <tr>\n",
       "      <th>11</th>\n",
       "      <td>183444.444444</td>\n",
       "      <td>100857.142857</td>\n",
       "      <td>132000.000000</td>\n",
       "    </tr>\n",
       "  </tbody>\n",
       "</table>\n",
       "</div>"
      ],
      "text/plain": [
       "               casas         deptos             ph\n",
       "month                                             \n",
       "2      390000.000000  275000.000000            NaN\n",
       "3      550000.000000  115166.666667            NaN\n",
       "4      720000.000000  100000.000000            NaN\n",
       "5      199644.086022  139979.209877  122352.941176\n",
       "6      391111.111111  115833.333333            NaN\n",
       "7      192727.272727  136320.454545            NaN\n",
       "8      183777.777778  101666.666667   57500.000000\n",
       "9      169000.000000   86166.666667            NaN\n",
       "10     332500.000000   87571.428571   92333.333333\n",
       "11     183444.444444  100857.142857  132000.000000"
      ]
     },
     "execution_count": 35,
     "metadata": {},
     "output_type": "execute_result"
    }
   ],
   "source": [
    "pro2013 = c2013\n",
    "pro2013.columns = ['casas']\n",
    "pro2013['deptos'] = d2013\n",
    "pro2013['ph'] = p2013\n",
    "pro2013.head(10)"
   ]
  },
  {
   "cell_type": "code",
   "execution_count": 38,
   "metadata": {},
   "outputs": [
    {
     "data": {
      "text/plain": [
       "<matplotlib.axes._subplots.AxesSubplot at 0x7f5eb5ef3790>"
      ]
     },
     "execution_count": 38,
     "metadata": {},
     "output_type": "execute_result"
    },
    {
     "data": {
      "image/png": "[encoded data removed]",
      "text/plain": [
       "<matplotlib.figure.Figure at 0x7f5eb5ec7590>"
      ]
     },
     "metadata": {},
     "output_type": "display_data"
    }
   ],
   "source": [
    "pro2013.plot(kind='bar',figsize=(15,8), title = 'Propiedades 2013', grid =True, xticks=l)"
   ]
  },
  {
   "cell_type": "code",
   "execution_count": 39,
   "metadata": {},
   "outputs": [
    {
     "data": {
      "text/html": [
       "<div>\n",
       "<style>\n",
       "    .dataframe thead tr:only-child th {\n",
       "        text-align: right;\n",
       "    }\n",
       "\n",
       "    .dataframe thead th {\n",
       "        text-align: left;\n",
       "    }\n",
       "\n",
       "    .dataframe tbody tr th {\n",
       "        vertical-align: top;\n",
       "    }\n",
       "</style>\n",
       "<table border=\"1\" class=\"dataframe\">\n",
       "  <thead>\n",
       "    <tr style=\"text-align: right;\">\n",
       "      <th></th>\n",
       "      <th>casas</th>\n",
       "      <th>deptos</th>\n",
       "      <th>ph</th>\n",
       "    </tr>\n",
       "    <tr>\n",
       "      <th>month</th>\n",
       "      <th></th>\n",
       "      <th></th>\n",
       "      <th></th>\n",
       "    </tr>\n",
       "  </thead>\n",
       "  <tbody>\n",
       "    <tr>\n",
       "      <th>1</th>\n",
       "      <td>174666.666667</td>\n",
       "      <td>183180.000000</td>\n",
       "      <td>240000.000000</td>\n",
       "    </tr>\n",
       "    <tr>\n",
       "      <th>2</th>\n",
       "      <td>193428.571429</td>\n",
       "      <td>382500.000000</td>\n",
       "      <td>NaN</td>\n",
       "    </tr>\n",
       "    <tr>\n",
       "      <th>3</th>\n",
       "      <td>203234.103625</td>\n",
       "      <td>132459.629331</td>\n",
       "      <td>107639.311704</td>\n",
       "    </tr>\n",
       "    <tr>\n",
       "      <th>4</th>\n",
       "      <td>229398.305085</td>\n",
       "      <td>150450.000000</td>\n",
       "      <td>80500.000000</td>\n",
       "    </tr>\n",
       "    <tr>\n",
       "      <th>5</th>\n",
       "      <td>291357.142857</td>\n",
       "      <td>180943.478261</td>\n",
       "      <td>94181.818182</td>\n",
       "    </tr>\n",
       "    <tr>\n",
       "      <th>6</th>\n",
       "      <td>211862.120323</td>\n",
       "      <td>138398.754621</td>\n",
       "      <td>183125.000000</td>\n",
       "    </tr>\n",
       "    <tr>\n",
       "      <th>7</th>\n",
       "      <td>238229.729730</td>\n",
       "      <td>184281.395349</td>\n",
       "      <td>100083.333333</td>\n",
       "    </tr>\n",
       "    <tr>\n",
       "      <th>8</th>\n",
       "      <td>207207.510250</td>\n",
       "      <td>172504.546190</td>\n",
       "      <td>100250.000000</td>\n",
       "    </tr>\n",
       "    <tr>\n",
       "      <th>9</th>\n",
       "      <td>276983.387556</td>\n",
       "      <td>109398.185455</td>\n",
       "      <td>87385.714286</td>\n",
       "    </tr>\n",
       "    <tr>\n",
       "      <th>10</th>\n",
       "      <td>176578.312885</td>\n",
       "      <td>174336.842105</td>\n",
       "      <td>107083.333333</td>\n",
       "    </tr>\n",
       "  </tbody>\n",
       "</table>\n",
       "</div>"
      ],
      "text/plain": [
       "               casas         deptos             ph\n",
       "month                                             \n",
       "1      174666.666667  183180.000000  240000.000000\n",
       "2      193428.571429  382500.000000            NaN\n",
       "3      203234.103625  132459.629331  107639.311704\n",
       "4      229398.305085  150450.000000   80500.000000\n",
       "5      291357.142857  180943.478261   94181.818182\n",
       "6      211862.120323  138398.754621  183125.000000\n",
       "7      238229.729730  184281.395349  100083.333333\n",
       "8      207207.510250  172504.546190  100250.000000\n",
       "9      276983.387556  109398.185455   87385.714286\n",
       "10     176578.312885  174336.842105  107083.333333"
      ]
     },
     "execution_count": 39,
     "metadata": {},
     "output_type": "execute_result"
    }
   ],
   "source": [
    "pro2014 = c2014\n",
    "pro2014.columns = ['casas']\n",
    "pro2014['deptos'] = d2014\n",
    "pro2014['ph'] = p2014\n",
    "pro2014.head(10)"
   ]
  },
  {
   "cell_type": "code",
   "execution_count": 40,
   "metadata": {},
   "outputs": [
    {
     "data": {
      "text/plain": [
       "<matplotlib.axes._subplots.AxesSubplot at 0x7f5eb5a75ed0>"
      ]
     },
     "execution_count": 40,
     "metadata": {},
     "output_type": "execute_result"
    },
    {
     "data": {
      "image/png": "[encoded data removed]",
      "text/plain": [
       "<matplotlib.figure.Figure at 0x7f5eb573e0d0>"
      ]
     },
     "metadata": {},
     "output_type": "display_data"
    }
   ],
   "source": [
    "pro2014.plot(kind='bar',figsize=(15,8), title = 'Propiedades 2014', grid =True, xticks=l)"
   ]
  },
  {
   "cell_type": "code",
   "execution_count": 41,
   "metadata": {},
   "outputs": [
    {
     "data": {
      "text/html": [
       "<div>\n",
       "<style>\n",
       "    .dataframe thead tr:only-child th {\n",
       "        text-align: right;\n",
       "    }\n",
       "\n",
       "    .dataframe thead th {\n",
       "        text-align: left;\n",
       "    }\n",
       "\n",
       "    .dataframe tbody tr th {\n",
       "        vertical-align: top;\n",
       "    }\n",
       "</style>\n",
       "<table border=\"1\" class=\"dataframe\">\n",
       "  <thead>\n",
       "    <tr style=\"text-align: right;\">\n",
       "      <th></th>\n",
       "      <th>casas</th>\n",
       "      <th>deptos</th>\n",
       "      <th>ph</th>\n",
       "    </tr>\n",
       "    <tr>\n",
       "      <th>month</th>\n",
       "      <th></th>\n",
       "      <th></th>\n",
       "      <th></th>\n",
       "    </tr>\n",
       "  </thead>\n",
       "  <tbody>\n",
       "    <tr>\n",
       "      <th>1</th>\n",
       "      <td>315099.229814</td>\n",
       "      <td>381058.744681</td>\n",
       "      <td>80260.869565</td>\n",
       "    </tr>\n",
       "    <tr>\n",
       "      <th>2</th>\n",
       "      <td>195688.193333</td>\n",
       "      <td>119305.991774</td>\n",
       "      <td>175076.923077</td>\n",
       "    </tr>\n",
       "    <tr>\n",
       "      <th>3</th>\n",
       "      <td>582960.744838</td>\n",
       "      <td>188763.175468</td>\n",
       "      <td>163340.000000</td>\n",
       "    </tr>\n",
       "    <tr>\n",
       "      <th>4</th>\n",
       "      <td>449021.711667</td>\n",
       "      <td>161670.459082</td>\n",
       "      <td>106925.925926</td>\n",
       "    </tr>\n",
       "    <tr>\n",
       "      <th>5</th>\n",
       "      <td>385919.261486</td>\n",
       "      <td>184301.246176</td>\n",
       "      <td>149319.092105</td>\n",
       "    </tr>\n",
       "    <tr>\n",
       "      <th>6</th>\n",
       "      <td>426877.070870</td>\n",
       "      <td>328620.347687</td>\n",
       "      <td>113000.000000</td>\n",
       "    </tr>\n",
       "    <tr>\n",
       "      <th>7</th>\n",
       "      <td>276211.487085</td>\n",
       "      <td>127033.907191</td>\n",
       "      <td>110750.000000</td>\n",
       "    </tr>\n",
       "    <tr>\n",
       "      <th>8</th>\n",
       "      <td>353008.810325</td>\n",
       "      <td>170413.760370</td>\n",
       "      <td>97219.512195</td>\n",
       "    </tr>\n",
       "    <tr>\n",
       "      <th>9</th>\n",
       "      <td>340159.428473</td>\n",
       "      <td>155151.240307</td>\n",
       "      <td>105428.571429</td>\n",
       "    </tr>\n",
       "    <tr>\n",
       "      <th>10</th>\n",
       "      <td>275323.168813</td>\n",
       "      <td>152591.544274</td>\n",
       "      <td>106177.769467</td>\n",
       "    </tr>\n",
       "  </tbody>\n",
       "</table>\n",
       "</div>"
      ],
      "text/plain": [
       "               casas         deptos             ph\n",
       "month                                             \n",
       "1      315099.229814  381058.744681   80260.869565\n",
       "2      195688.193333  119305.991774  175076.923077\n",
       "3      582960.744838  188763.175468  163340.000000\n",
       "4      449021.711667  161670.459082  106925.925926\n",
       "5      385919.261486  184301.246176  149319.092105\n",
       "6      426877.070870  328620.347687  113000.000000\n",
       "7      276211.487085  127033.907191  110750.000000\n",
       "8      353008.810325  170413.760370   97219.512195\n",
       "9      340159.428473  155151.240307  105428.571429\n",
       "10     275323.168813  152591.544274  106177.769467"
      ]
     },
     "execution_count": 41,
     "metadata": {},
     "output_type": "execute_result"
    }
   ],
   "source": [
    "pro2015 = c2015\n",
    "pro2015.columns = ['casas']\n",
    "pro2015['deptos'] = d2015\n",
    "pro2015['ph'] = p2015\n",
    "pro2015.head(10)"
   ]
  },
  {
   "cell_type": "code",
   "execution_count": 43,
   "metadata": {},
   "outputs": [
    {
     "data": {
      "text/plain": [
       "<matplotlib.axes._subplots.AxesSubplot at 0x7f5eb6b82410>"
      ]
     },
     "execution_count": 43,
     "metadata": {},
     "output_type": "execute_result"
    },
    {
     "data": {
      "image/png": "[encoded data removed]",
      "text/plain": [
       "<matplotlib.figure.Figure at 0x7f5eb5235990>"
      ]
     },
     "metadata": {},
     "output_type": "display_data"
    }
   ],
   "source": [
    "pro2015.plot(kind='bar',figsize=(15,8), title = 'Propiedades 2015', grid =True, xticks=l)"
   ]
  },
  {
   "cell_type": "code",
   "execution_count": 45,
   "metadata": {},
   "outputs": [
    {
     "data": {
      "text/html": [
       "<div>\n",
       "<style>\n",
       "    .dataframe thead tr:only-child th {\n",
       "        text-align: right;\n",
       "    }\n",
       "\n",
       "    .dataframe thead th {\n",
       "        text-align: left;\n",
       "    }\n",
       "\n",
       "    .dataframe tbody tr th {\n",
       "        vertical-align: top;\n",
       "    }\n",
       "</style>\n",
       "<table border=\"1\" class=\"dataframe\">\n",
       "  <thead>\n",
       "    <tr style=\"text-align: right;\">\n",
       "      <th></th>\n",
       "      <th>casas</th>\n",
       "      <th>deptos</th>\n",
       "      <th>ph</th>\n",
       "    </tr>\n",
       "    <tr>\n",
       "      <th>month</th>\n",
       "      <th></th>\n",
       "      <th></th>\n",
       "      <th></th>\n",
       "    </tr>\n",
       "  </thead>\n",
       "  <tbody>\n",
       "    <tr>\n",
       "      <th>1</th>\n",
       "      <td>349226.858712</td>\n",
       "      <td>180853.320515</td>\n",
       "      <td>142692.307692</td>\n",
       "    </tr>\n",
       "    <tr>\n",
       "      <th>2</th>\n",
       "      <td>362223.752931</td>\n",
       "      <td>219034.745528</td>\n",
       "      <td>133711.538462</td>\n",
       "    </tr>\n",
       "    <tr>\n",
       "      <th>3</th>\n",
       "      <td>357983.855768</td>\n",
       "      <td>165243.184251</td>\n",
       "      <td>124967.982941</td>\n",
       "    </tr>\n",
       "    <tr>\n",
       "      <th>4</th>\n",
       "      <td>391834.491254</td>\n",
       "      <td>182974.650591</td>\n",
       "      <td>390340.209474</td>\n",
       "    </tr>\n",
       "    <tr>\n",
       "      <th>5</th>\n",
       "      <td>282858.153216</td>\n",
       "      <td>181203.205231</td>\n",
       "      <td>114413.680000</td>\n",
       "    </tr>\n",
       "    <tr>\n",
       "      <th>6</th>\n",
       "      <td>416017.332473</td>\n",
       "      <td>185048.502544</td>\n",
       "      <td>132114.754098</td>\n",
       "    </tr>\n",
       "    <tr>\n",
       "      <th>7</th>\n",
       "      <td>425997.925010</td>\n",
       "      <td>168324.210964</td>\n",
       "      <td>153844.866964</td>\n",
       "    </tr>\n",
       "    <tr>\n",
       "      <th>8</th>\n",
       "      <td>390397.626409</td>\n",
       "      <td>185907.447130</td>\n",
       "      <td>133347.619048</td>\n",
       "    </tr>\n",
       "    <tr>\n",
       "      <th>9</th>\n",
       "      <td>389025.835992</td>\n",
       "      <td>193555.291816</td>\n",
       "      <td>134116.975833</td>\n",
       "    </tr>\n",
       "    <tr>\n",
       "      <th>10</th>\n",
       "      <td>393702.770926</td>\n",
       "      <td>188510.939034</td>\n",
       "      <td>144509.057851</td>\n",
       "    </tr>\n",
       "  </tbody>\n",
       "</table>\n",
       "</div>"
      ],
      "text/plain": [
       "               casas         deptos             ph\n",
       "month                                             \n",
       "1      349226.858712  180853.320515  142692.307692\n",
       "2      362223.752931  219034.745528  133711.538462\n",
       "3      357983.855768  165243.184251  124967.982941\n",
       "4      391834.491254  182974.650591  390340.209474\n",
       "5      282858.153216  181203.205231  114413.680000\n",
       "6      416017.332473  185048.502544  132114.754098\n",
       "7      425997.925010  168324.210964  153844.866964\n",
       "8      390397.626409  185907.447130  133347.619048\n",
       "9      389025.835992  193555.291816  134116.975833\n",
       "10     393702.770926  188510.939034  144509.057851"
      ]
     },
     "execution_count": 45,
     "metadata": {},
     "output_type": "execute_result"
    }
   ],
   "source": [
    "pro2016 = c2016\n",
    "pro2016.columns = ['casas']\n",
    "pro2016['deptos'] = d2016\n",
    "pro2016['ph'] = p2016\n",
    "pro2016.head(10)"
   ]
  },
  {
   "cell_type": "code",
   "execution_count": 46,
   "metadata": {},
   "outputs": [
    {
     "data": {
      "text/plain": [
       "<matplotlib.axes._subplots.AxesSubplot at 0x7f5eabd25a10>"
      ]
     },
     "execution_count": 46,
     "metadata": {},
     "output_type": "execute_result"
    },
    {
     "data": {
      "image/png": "[encoded data removed]",
      "text/plain": [
       "<matplotlib.figure.Figure at 0x7f5eb5f94050>"
      ]
     },
     "metadata": {},
     "output_type": "display_data"
    }
   ],
   "source": [
    "pro2016.plot(kind='bar',figsize=(15,8), title = 'Variacion 2016', grid =True, xticks=l)"
   ]
  },
  {
   "cell_type": "code",
   "execution_count": 47,
   "metadata": {},
   "outputs": [
    {
     "data": {
      "text/html": [
       "<div>\n",
       "<style>\n",
       "    .dataframe thead tr:only-child th {\n",
       "        text-align: right;\n",
       "    }\n",
       "\n",
       "    .dataframe thead th {\n",
       "        text-align: left;\n",
       "    }\n",
       "\n",
       "    .dataframe tbody tr th {\n",
       "        vertical-align: top;\n",
       "    }\n",
       "</style>\n",
       "<table border=\"1\" class=\"dataframe\">\n",
       "  <thead>\n",
       "    <tr style=\"text-align: right;\">\n",
       "      <th></th>\n",
       "      <th>casas</th>\n",
       "      <th>deptos</th>\n",
       "      <th>ph</th>\n",
       "    </tr>\n",
       "    <tr>\n",
       "      <th>month</th>\n",
       "      <th></th>\n",
       "      <th></th>\n",
       "      <th></th>\n",
       "    </tr>\n",
       "  </thead>\n",
       "  <tbody>\n",
       "    <tr>\n",
       "      <th>1</th>\n",
       "      <td>373858.042065</td>\n",
       "      <td>191326.981298</td>\n",
       "      <td>149820.640432</td>\n",
       "    </tr>\n",
       "    <tr>\n",
       "      <th>2</th>\n",
       "      <td>418180.369475</td>\n",
       "      <td>212557.739617</td>\n",
       "      <td>162589.534550</td>\n",
       "    </tr>\n",
       "    <tr>\n",
       "      <th>3</th>\n",
       "      <td>402879.406336</td>\n",
       "      <td>237571.108497</td>\n",
       "      <td>163831.299213</td>\n",
       "    </tr>\n",
       "    <tr>\n",
       "      <th>4</th>\n",
       "      <td>363401.464199</td>\n",
       "      <td>288233.736335</td>\n",
       "      <td>144619.031986</td>\n",
       "    </tr>\n",
       "    <tr>\n",
       "      <th>5</th>\n",
       "      <td>344276.691382</td>\n",
       "      <td>212082.701160</td>\n",
       "      <td>154434.094640</td>\n",
       "    </tr>\n",
       "    <tr>\n",
       "      <th>6</th>\n",
       "      <td>359076.861785</td>\n",
       "      <td>212278.818992</td>\n",
       "      <td>165652.613346</td>\n",
       "    </tr>\n",
       "    <tr>\n",
       "      <th>7</th>\n",
       "      <td>354828.978693</td>\n",
       "      <td>201244.393969</td>\n",
       "      <td>151951.974781</td>\n",
       "    </tr>\n",
       "    <tr>\n",
       "      <th>8</th>\n",
       "      <td>298375.000000</td>\n",
       "      <td>213683.085375</td>\n",
       "      <td>152333.333333</td>\n",
       "    </tr>\n",
       "  </tbody>\n",
       "</table>\n",
       "</div>"
      ],
      "text/plain": [
       "               casas         deptos             ph\n",
       "month                                             \n",
       "1      373858.042065  191326.981298  149820.640432\n",
       "2      418180.369475  212557.739617  162589.534550\n",
       "3      402879.406336  237571.108497  163831.299213\n",
       "4      363401.464199  288233.736335  144619.031986\n",
       "5      344276.691382  212082.701160  154434.094640\n",
       "6      359076.861785  212278.818992  165652.613346\n",
       "7      354828.978693  201244.393969  151951.974781\n",
       "8      298375.000000  213683.085375  152333.333333"
      ]
     },
     "execution_count": 47,
     "metadata": {},
     "output_type": "execute_result"
    }
   ],
   "source": [
    "pro2017 = c2017\n",
    "pro2017.columns = ['casas']\n",
    "pro2017['deptos'] = d2017\n",
    "pro2017['ph'] = p2017\n",
    "pro2017.head(10)"
   ]
  },
  {
   "cell_type": "code",
   "execution_count": 49,
   "metadata": {},
   "outputs": [
    {
     "data": {
      "text/plain": [
       "<matplotlib.axes._subplots.AxesSubplot at 0x7f5eb06ae450>"
      ]
     },
     "execution_count": 49,
     "metadata": {},
     "output_type": "execute_result"
    },
    {
     "data": {
      "image/png": "[encoded data removed]",
      "text/plain": [
       "<matplotlib.figure.Figure at 0x7f5eaf976e90>"
      ]
     },
     "metadata": {},
     "output_type": "display_data"
    }
   ],
   "source": [
    "pro2017.plot(kind='bar',figsize=(15,8), title = 'Variacion 2017', grid =True, xticks=l)"
   ]
  },
  {
   "cell_type": "markdown",
   "metadata": {},
   "source": [
    "# Ahora graficamos todos juntos"
   ]
  },
  {
   "cell_type": "code",
   "execution_count": 59,
   "metadata": {
    "collapsed": true
   },
   "outputs": [],
   "source": [
    "promC2013 = pro2013['casas'].mean()\n",
    "promC2014 = pro2014['casas'].mean()\n",
    "promC2015 = pro2015['casas'].mean()\n",
    "promC2016 = pro2016['casas'].mean()\n",
    "promC2017 = pro2017['casas'].mean()"
   ]
  },
  {
   "cell_type": "code",
   "execution_count": 64,
   "metadata": {},
   "outputs": [],
   "source": [
    "promD2013 = pro2013['deptos'].mean()\n",
    "promD2014 = pro2014['deptos'].mean()\n",
    "promD2015 = pro2015['deptos'].mean()\n",
    "promD2016 = pro2016['deptos'].mean()\n",
    "promD2017 = pro2017['deptos'].mean()"
   ]
  },
  {
   "cell_type": "code",
   "execution_count": 65,
   "metadata": {
    "collapsed": true
   },
   "outputs": [],
   "source": [
    "promP2013 = pro2013['ph'].mean()\n",
    "promP2014 = pro2014['ph'].mean()\n",
    "promP2015 = pro2015['ph'].mean()\n",
    "promP2016 = pro2016['ph'].mean()\n",
    "promP2017 = pro2017['ph'].mean()"
   ]
  },
  {
   "cell_type": "code",
   "execution_count": 74,
   "metadata": {},
   "outputs": [
    {
     "data": {
      "text/html": [
       "<div>\n",
       "<style>\n",
       "    .dataframe thead tr:only-child th {\n",
       "        text-align: right;\n",
       "    }\n",
       "\n",
       "    .dataframe thead th {\n",
       "        text-align: left;\n",
       "    }\n",
       "\n",
       "    .dataframe tbody tr th {\n",
       "        vertical-align: top;\n",
       "    }\n",
       "</style>\n",
       "<table border=\"1\" class=\"dataframe\">\n",
       "  <thead>\n",
       "    <tr style=\"text-align: right;\">\n",
       "      <th></th>\n",
       "      <th>casas</th>\n",
       "      <th>deptos</th>\n",
       "      <th>ph</th>\n",
       "    </tr>\n",
       "  </thead>\n",
       "  <tbody>\n",
       "    <tr>\n",
       "      <th>2013</th>\n",
       "      <td>311109.517462</td>\n",
       "      <td>125111.657805</td>\n",
       "      <td>99837.254902</td>\n",
       "    </tr>\n",
       "    <tr>\n",
       "      <th>2014</th>\n",
       "      <td>221936.111126</td>\n",
       "      <td>180834.989734</td>\n",
       "      <td>117766.699638</td>\n",
       "    </tr>\n",
       "    <tr>\n",
       "      <th>2015</th>\n",
       "      <td>357422.709202</td>\n",
       "      <td>194526.614737</td>\n",
       "      <td>122331.017395</td>\n",
       "    </tr>\n",
       "    <tr>\n",
       "      <th>2016</th>\n",
       "      <td>382554.730773</td>\n",
       "      <td>212418.858862</td>\n",
       "      <td>159113.130517</td>\n",
       "    </tr>\n",
       "    <tr>\n",
       "      <th>2017</th>\n",
       "      <td>364359.601742</td>\n",
       "      <td>221122.320655</td>\n",
       "      <td>155654.065285</td>\n",
       "    </tr>\n",
       "  </tbody>\n",
       "</table>\n",
       "</div>"
      ],
      "text/plain": [
       "              casas         deptos             ph\n",
       "2013  311109.517462  125111.657805   99837.254902\n",
       "2014  221936.111126  180834.989734  117766.699638\n",
       "2015  357422.709202  194526.614737  122331.017395\n",
       "2016  382554.730773  212418.858862  159113.130517\n",
       "2017  364359.601742  221122.320655  155654.065285"
      ]
     },
     "execution_count": 74,
     "metadata": {},
     "output_type": "execute_result"
    }
   ],
   "source": [
    "dic = {'casas' : [promC2013,promC2014,promC2015,promC2016,promC2017], \n",
    "       'deptos': [promD2013,promD2014,promD2015,promD2016,promD2017],\n",
    "      'ph' : [promP2013,promP2014,promP2015,promP2016,promP2017]}\n",
    "\n",
    "promedio = pd.DataFrame(dic)\n",
    "promedio.rename(index={0:'2013',1:'2014',2:'2015',3:'2016',4:'2017'},inplace=True)\n",
    "promedio.head(10)"
   ]
  },
  {
   "cell_type": "code",
   "execution_count": 75,
   "metadata": {},
   "outputs": [
    {
     "data": {
      "text/plain": [
       "<matplotlib.axes._subplots.AxesSubplot at 0x7f5eb72c6fd0>"
      ]
     },
     "execution_count": 75,
     "metadata": {},
     "output_type": "execute_result"
    },
    {
     "data": {
      "image/png": "[encoded data removed]",
      "text/plain": [
       "<matplotlib.figure.Figure at 0x7f5eac8cd890>"
      ]
     },
     "metadata": {},
     "output_type": "display_data"
    }
   ],
   "source": [
    "promedio.plot(kind='bar',figsize=(15,8), title = 'Variacion por Tipo de Propiedad 2013-2017', grid =True, xticks=range(1,12))"
   ]
  }
 ],
 "metadata": {
  "kernelspec": {
   "display_name": "Python 2",
   "language": "python",
   "name": "python2"
  },
  "language_info": {
   "codemirror_mode": {
    "name": "ipython",
    "version": 2
   },
   "file_extension": ".py",
   "mimetype": "text/x-python",
   "name": "python",
   "nbconvert_exporter": "python",
   "pygments_lexer": "ipython2",
   "version": "2.7.13"
  }
 },
 "nbformat": 4,
 "nbformat_minor": 2
}

{
 "cells": [
  {
   "cell_type": "code",
   "execution_count": 1,
   "metadata": {
    "collapsed": true
   },
   "outputs": [],
   "source": [
    "import pandas as pd\n",
    "import numpy as np\n",
    "import matplotlib.pyplot as plt\n",
    "import cPickle as pickle\n",
    "%matplotlib inline"
   ]
  },
  {
   "cell_type": "markdown",
   "metadata": {},
   "source": [
    "# Cargamos las Propiedades"
   ]
  },
  {
   "cell_type": "code",
   "execution_count": 2,
   "metadata": {
    "collapsed": true
   },
   "outputs": [],
   "source": [
    "propertyD = pickle.load(open(\"../../../datos/Data.p\",\"rb\"))"
   ]
  },
  {
   "cell_type": "markdown",
   "metadata": {},
   "source": [
    "# Vamos a analizar los deptos"
   ]
  },
  {
   "cell_type": "code",
   "execution_count": 3,
   "metadata": {
    "collapsed": true
   },
   "outputs": [],
   "source": [
    "propiedades = propertyD[['id','created_on','price_aprox_usd','property_type']]"
   ]
  },
  {
   "cell_type": "code",
   "execution_count": 4,
   "metadata": {},
   "outputs": [
    {
     "data": {
      "text/html": [
       "<div>\n",
       "<style>\n",
       "    .dataframe thead tr:only-child th {\n",
       "        text-align: right;\n",
       "    }\n",
       "\n",
       "    .dataframe thead th {\n",
       "        text-align: left;\n",
       "    }\n",
       "\n",
       "    .dataframe tbody tr th {\n",
       "        vertical-align: top;\n",
       "    }\n",
       "</style>\n",
       "<table border=\"1\" class=\"dataframe\">\n",
       "  <thead>\n",
       "    <tr style=\"text-align: right;\">\n",
       "      <th></th>\n",
       "      <th>id</th>\n",
       "      <th>created_on</th>\n",
       "      <th>price_aprox_usd</th>\n",
       "      <th>property_type</th>\n",
       "    </tr>\n",
       "  </thead>\n",
       "  <tbody>\n",
       "    <tr>\n",
       "      <th>3</th>\n",
       "      <td>0f0e301809a14b8c069b267fa1c56a3b5ec35d9e</td>\n",
       "      <td>2013-03-23</td>\n",
       "      <td>88000.0</td>\n",
       "      <td>apartment</td>\n",
       "    </tr>\n",
       "    <tr>\n",
       "      <th>4</th>\n",
       "      <td>681ee228d423d9f806d227388bfb7d42e1ac14c9</td>\n",
       "      <td>2013-03-23</td>\n",
       "      <td>52000.0</td>\n",
       "      <td>apartment</td>\n",
       "    </tr>\n",
       "    <tr>\n",
       "      <th>5</th>\n",
       "      <td>bbb3e28bebd5681a8c6feea68350f2b25accaf79</td>\n",
       "      <td>2013-03-28</td>\n",
       "      <td>140000.0</td>\n",
       "      <td>apartment</td>\n",
       "    </tr>\n",
       "  </tbody>\n",
       "</table>\n",
       "</div>"
      ],
      "text/plain": [
       "                                         id  created_on  price_aprox_usd  \\\n",
       "3  0f0e301809a14b8c069b267fa1c56a3b5ec35d9e  2013-03-23          88000.0   \n",
       "4  681ee228d423d9f806d227388bfb7d42e1ac14c9  2013-03-23          52000.0   \n",
       "5  bbb3e28bebd5681a8c6feea68350f2b25accaf79  2013-03-28         140000.0   \n",
       "\n",
       "  property_type  \n",
       "3     apartment  \n",
       "4     apartment  \n",
       "5     apartment  "
      ]
     },
     "execution_count": 4,
     "metadata": {},
     "output_type": "execute_result"
    }
   ],
   "source": [
    "propiedades = propiedades[propiedades['property_type'] == 'apartment']\n",
    "propiedades.head(3)"
   ]
  },
  {
   "cell_type": "code",
   "execution_count": 24,
   "metadata": {
    "collapsed": true
   },
   "outputs": [],
   "source": [
    "#Le agrego una columna que es el año\n",
    "propiedades['year'] = propiedades['created_on']\n",
    "propiedades['year'] = propiedades['year'].apply(lambda x: int(x[0:4]))\n",
    "\n",
    "#Le agrego una columna que es el mes\n",
    "propiedades['month'] = propiedades['created_on']\n",
    "propiedades['month'] = propiedades['month'].apply(lambda x: int(x[5:7]))"
   ]
  },
  {
   "cell_type": "code",
   "execution_count": 25,
   "metadata": {
    "collapsed": true
   },
   "outputs": [],
   "source": [
    "prop2013 = propiedades[ propiedades['year'] == 2013 ]\n",
    "prop2014 = propiedades[ propiedades['year'] == 2014 ]\n",
    "prop2015 = propiedades[ propiedades['year'] == 2015 ]\n",
    "prop2016 = propiedades[ propiedades['year'] == 2016 ]\n",
    "prop2017 = propiedades[ propiedades['year'] == 2017 ]"
   ]
  },
  {
   "cell_type": "code",
   "execution_count": 26,
   "metadata": {
    "collapsed": true
   },
   "outputs": [],
   "source": [
    "pro2013 = prop2013[['month','price_aprox_usd']]\n",
    "pro2013 = pro2013.groupby('month').agg(np.mean)\n",
    "pro2013 = pro2013.reset_index()\n",
    "\n",
    "pro2014 = prop2014[['month','price_aprox_usd']]\n",
    "pro2014 = pro2014.groupby('month').agg(np.mean)\n",
    "pro2014 = pro2014.reset_index()\n",
    "\n",
    "pro2015 = prop2015[['month','price_aprox_usd']]\n",
    "pro2015 = pro2015.groupby('month').agg(np.mean)\n",
    "pro2015 = pro2015.reset_index()\n",
    "\n",
    "pro2016 = prop2016[['month','price_aprox_usd']]\n",
    "pro2016 = pro2016.groupby('month').agg(np.mean)\n",
    "pro2016 = pro2016.reset_index()\n",
    "\n",
    "pro2017 = prop2017[['month','price_aprox_usd']]\n",
    "pro2017 = pro2017.groupby('month').agg(np.mean)\n",
    "pro2017 = pro2017.reset_index()"
   ]
  },
  {
   "cell_type": "code",
   "execution_count": 29,
   "metadata": {
    "collapsed": true
   },
   "outputs": [],
   "source": [
    "l=[1,2,3,4,5,6,7,8,9,10,11,12]\n",
    "a = pro2013['price_aprox_usd']\n",
    "uno = pd.Series([0,0,0,0,a[0],a[1],a[2],a[3],a[4],a[5],a[6],a[7]])"
   ]
  },
  {
   "cell_type": "code",
   "execution_count": 30,
   "metadata": {},
   "outputs": [
    {
     "data": {
      "text/html": [
       "<div>\n",
       "<style>\n",
       "    .dataframe thead tr:only-child th {\n",
       "        text-align: right;\n",
       "    }\n",
       "\n",
       "    .dataframe thead th {\n",
       "        text-align: left;\n",
       "    }\n",
       "\n",
       "    .dataframe tbody tr th {\n",
       "        vertical-align: top;\n",
       "    }\n",
       "</style>\n",
       "<table border=\"1\" class=\"dataframe\">\n",
       "  <thead>\n",
       "    <tr style=\"text-align: right;\">\n",
       "      <th></th>\n",
       "      <th>meses</th>\n",
       "      <th>precio</th>\n",
       "    </tr>\n",
       "  </thead>\n",
       "  <tbody>\n",
       "    <tr>\n",
       "      <th>0</th>\n",
       "      <td>1</td>\n",
       "      <td>0.000000</td>\n",
       "    </tr>\n",
       "    <tr>\n",
       "      <th>1</th>\n",
       "      <td>2</td>\n",
       "      <td>0.000000</td>\n",
       "    </tr>\n",
       "    <tr>\n",
       "      <th>2</th>\n",
       "      <td>3</td>\n",
       "      <td>0.000000</td>\n",
       "    </tr>\n",
       "    <tr>\n",
       "      <th>3</th>\n",
       "      <td>4</td>\n",
       "      <td>0.000000</td>\n",
       "    </tr>\n",
       "    <tr>\n",
       "      <th>4</th>\n",
       "      <td>5</td>\n",
       "      <td>112000.000000</td>\n",
       "    </tr>\n",
       "    <tr>\n",
       "      <th>5</th>\n",
       "      <td>6</td>\n",
       "      <td>70000.000000</td>\n",
       "    </tr>\n",
       "    <tr>\n",
       "      <th>6</th>\n",
       "      <td>7</td>\n",
       "      <td>145369.135135</td>\n",
       "    </tr>\n",
       "    <tr>\n",
       "      <th>7</th>\n",
       "      <td>8</td>\n",
       "      <td>90333.333333</td>\n",
       "    </tr>\n",
       "    <tr>\n",
       "      <th>8</th>\n",
       "      <td>9</td>\n",
       "      <td>128444.444444</td>\n",
       "    </tr>\n",
       "    <tr>\n",
       "      <th>9</th>\n",
       "      <td>10</td>\n",
       "      <td>67500.000000</td>\n",
       "    </tr>\n",
       "    <tr>\n",
       "      <th>10</th>\n",
       "      <td>11</td>\n",
       "      <td>73857.142857</td>\n",
       "    </tr>\n",
       "    <tr>\n",
       "      <th>11</th>\n",
       "      <td>12</td>\n",
       "      <td>87571.428571</td>\n",
       "    </tr>\n",
       "  </tbody>\n",
       "</table>\n",
       "</div>"
      ],
      "text/plain": [
       "    meses         precio\n",
       "0       1       0.000000\n",
       "1       2       0.000000\n",
       "2       3       0.000000\n",
       "3       4       0.000000\n",
       "4       5  112000.000000\n",
       "5       6   70000.000000\n",
       "6       7  145369.135135\n",
       "7       8   90333.333333\n",
       "8       9  128444.444444\n",
       "9      10   67500.000000\n",
       "10     11   73857.142857\n",
       "11     12   87571.428571"
      ]
     },
     "execution_count": 30,
     "metadata": {},
     "output_type": "execute_result"
    }
   ],
   "source": [
    "pro2013 = pd.DataFrame({'meses':l,'precio':uno})\n",
    "pro2013"
   ]
  },
  {
   "cell_type": "code",
   "execution_count": 33,
   "metadata": {},
   "outputs": [
    {
     "data": {
      "image/png": "[encoded data removed]",
      "text/plain": [
       "<matplotlib.figure.Figure at 0x7fbdd7085550>"
      ]
     },
     "metadata": {},
     "output_type": "display_data"
    }
   ],
   "source": [
    "ax = pro2013.reset_index().plot(kind='bar',figsize=(15,8), x='meses',y='precio',\\\n",
    "                  title = 'Variacion Precios Departamentos 2013',linewidth=2,\\\n",
    "                  color='orangered')\n",
    "ax.set_ylabel('Precio en USD')\n",
    "ax.set_xlabel('Meses')\n",
    "ax.set_ylim([0, 500000])\n",
    "plt.show()"
   ]
  },
  {
   "cell_type": "code",
   "execution_count": 18,
   "metadata": {},
   "outputs": [
    {
     "data": {
      "image/png": "[encoded data removed]",
      "text/plain": [
       "<matplotlib.figure.Figure at 0x7fbdd700d210>"
      ]
     },
     "metadata": {},
     "output_type": "display_data"
    }
   ],
   "source": [
    "ax = pro2014.reset_index().plot(kind='bar',figsize=(15,8), x='month',y='price_aprox_usd',\\\n",
    "                  title = 'Variacion Precios Departamentos 2014',linewidth=2,\\\n",
    "                  color='orangered')\n",
    "ax.set_ylabel('Precio en USD')\n",
    "ax.set_xlabel('Meses')\n",
    "ax.set_ylim([0, 500000])\n",
    "plt.show()"
   ]
  },
  {
   "cell_type": "code",
   "execution_count": 19,
   "metadata": {},
   "outputs": [
    {
     "data": {
      "image/png": "[encoded data removed]",
      "text/plain": [
       "<matplotlib.figure.Figure at 0x7fbdd4633210>"
      ]
     },
     "metadata": {},
     "output_type": "display_data"
    }
   ],
   "source": [
    "ax = pro2015.reset_index().plot(kind='bar',figsize=(15,8), x='month',y='price_aprox_usd',\\\n",
    "                  title = 'Variacion Precios Departamentos 2015',linewidth=2,\\\n",
    "                  color='orangered')\n",
    "ax.set_ylabel('Precio en USD')\n",
    "ax.set_xlabel('Meses')\n",
    "ax.set_ylim([0, 500000])\n",
    "plt.show()"
   ]
  },
  {
   "cell_type": "code",
   "execution_count": 34,
   "metadata": {
    "scrolled": false
   },
   "outputs": [
    {
     "data": {
      "image/png": "[encoded data removed]",
      "text/plain": [
       "<matplotlib.figure.Figure at 0x7fbdd7443b50>"
      ]
     },
     "metadata": {},
     "output_type": "display_data"
    }
   ],
   "source": [
    "ax = pro2016.reset_index().plot(kind='bar',figsize=(15,8), x='month',y='price_aprox_usd',\\\n",
    "                  title = 'Variacion Precios Departamentos 2016',linewidth=2,\\\n",
    "                  color='orangered')\n",
    "ax.set_ylabel('Precio en USD')\n",
    "ax.set_xlabel('Meses')\n",
    "ax.set_ylim([0, 500000])\n",
    "plt.show()"
   ]
  },
  {
   "cell_type": "code",
   "execution_count": 35,
   "metadata": {
    "collapsed": true
   },
   "outputs": [],
   "source": [
    "b = pro2017['price_aprox_usd']\n",
    "dos = pd.Series([b[0],b[1],b[2],b[3],b[4],b[5],b[6],b[7],0,0,0,0])"
   ]
  },
  {
   "cell_type": "code",
   "execution_count": 36,
   "metadata": {},
   "outputs": [
    {
     "data": {
      "text/html": [
       "<div>\n",
       "<style>\n",
       "    .dataframe thead tr:only-child th {\n",
       "        text-align: right;\n",
       "    }\n",
       "\n",
       "    .dataframe thead th {\n",
       "        text-align: left;\n",
       "    }\n",
       "\n",
       "    .dataframe tbody tr th {\n",
       "        vertical-align: top;\n",
       "    }\n",
       "</style>\n",
       "<table border=\"1\" class=\"dataframe\">\n",
       "  <thead>\n",
       "    <tr style=\"text-align: right;\">\n",
       "      <th></th>\n",
       "      <th>meses</th>\n",
       "      <th>precio</th>\n",
       "    </tr>\n",
       "  </thead>\n",
       "  <tbody>\n",
       "    <tr>\n",
       "      <th>0</th>\n",
       "      <td>1</td>\n",
       "      <td>192963.266307</td>\n",
       "    </tr>\n",
       "    <tr>\n",
       "      <th>1</th>\n",
       "      <td>2</td>\n",
       "      <td>245050.278638</td>\n",
       "    </tr>\n",
       "    <tr>\n",
       "      <th>2</th>\n",
       "      <td>3</td>\n",
       "      <td>252624.431346</td>\n",
       "    </tr>\n",
       "    <tr>\n",
       "      <th>3</th>\n",
       "      <td>4</td>\n",
       "      <td>315001.667385</td>\n",
       "    </tr>\n",
       "    <tr>\n",
       "      <th>4</th>\n",
       "      <td>5</td>\n",
       "      <td>204680.126533</td>\n",
       "    </tr>\n",
       "    <tr>\n",
       "      <th>5</th>\n",
       "      <td>6</td>\n",
       "      <td>221311.986138</td>\n",
       "    </tr>\n",
       "    <tr>\n",
       "      <th>6</th>\n",
       "      <td>7</td>\n",
       "      <td>210240.942402</td>\n",
       "    </tr>\n",
       "    <tr>\n",
       "      <th>7</th>\n",
       "      <td>8</td>\n",
       "      <td>228663.923971</td>\n",
       "    </tr>\n",
       "    <tr>\n",
       "      <th>8</th>\n",
       "      <td>9</td>\n",
       "      <td>0.000000</td>\n",
       "    </tr>\n",
       "    <tr>\n",
       "      <th>9</th>\n",
       "      <td>10</td>\n",
       "      <td>0.000000</td>\n",
       "    </tr>\n",
       "    <tr>\n",
       "      <th>10</th>\n",
       "      <td>11</td>\n",
       "      <td>0.000000</td>\n",
       "    </tr>\n",
       "    <tr>\n",
       "      <th>11</th>\n",
       "      <td>12</td>\n",
       "      <td>0.000000</td>\n",
       "    </tr>\n",
       "  </tbody>\n",
       "</table>\n",
       "</div>"
      ],
      "text/plain": [
       "    meses         precio\n",
       "0       1  192963.266307\n",
       "1       2  245050.278638\n",
       "2       3  252624.431346\n",
       "3       4  315001.667385\n",
       "4       5  204680.126533\n",
       "5       6  221311.986138\n",
       "6       7  210240.942402\n",
       "7       8  228663.923971\n",
       "8       9       0.000000\n",
       "9      10       0.000000\n",
       "10     11       0.000000\n",
       "11     12       0.000000"
      ]
     },
     "execution_count": 36,
     "metadata": {},
     "output_type": "execute_result"
    }
   ],
   "source": [
    "pro2017 = pd.DataFrame({'meses':l,'precio':dos})\n",
    "pro2017"
   ]
  },
  {
   "cell_type": "code",
   "execution_count": 37,
   "metadata": {},
   "outputs": [
    {
     "data": {
      "image/png": "[encoded data removed]",
      "text/plain": [
       "<matplotlib.figure.Figure at 0x7fbdd4c56950>"
      ]
     },
     "metadata": {},
     "output_type": "display_data"
    }
   ],
   "source": [
    "ax = pro2017.reset_index().plot(kind='bar',figsize=(15,8), x='meses',y='precio',\\\n",
    "                  title = 'Variacion Precios Departamentos 2017',linewidth=2,\\\n",
    "                  color='orangered')\n",
    "ax.set_ylabel('Precio en USD')\n",
    "ax.set_xlabel('Meses')\n",
    "ax.set_ylim([0, 500000])\n",
    "plt.show()"
   ]
  }
 ],
 "metadata": {
  "kernelspec": {
   "display_name": "Python 2",
   "language": "python",
   "name": "python2"
  },
  "language_info": {
   "codemirror_mode": {
    "name": "ipython",
    "version": 2
   },
   "file_extension": ".py",
   "mimetype": "text/x-python",
   "name": "python",
   "nbconvert_exporter": "python",
   "pygments_lexer": "ipython2",
   "version": "2.7.13"
  }
 },
 "nbformat": 4,
 "nbformat_minor": 2
}

{
 "cells": [
  {
   "cell_type": "code",
   "execution_count": 1,
   "metadata": {
    "collapsed": true
   },
   "outputs": [],
   "source": [
    "import pandas as pd\n",
    "import numpy as np\n",
    "import matplotlib.pyplot as plt\n",
    "import cPickle as pickle\n",
    "%matplotlib inline"
   ]
  },
  {
   "cell_type": "markdown",
   "metadata": {},
   "source": [
    "# Cargamos las Propiedades"
   ]
  },
  {
   "cell_type": "code",
   "execution_count": 2,
   "metadata": {
    "collapsed": true
   },
   "outputs": [],
   "source": [
    "propertyD = pickle.load(open(\"../../../datos/Data.p\",\"rb\"))"
   ]
  },
  {
   "cell_type": "markdown",
   "metadata": {},
   "source": [
    "# Vamos a analizar por tipo de propiedad"
   ]
  },
  {
   "cell_type": "code",
   "execution_count": 8,
   "metadata": {},
   "outputs": [
    {
     "data": {
      "text/html": [
       "<div>\n",
       "<style>\n",
       "    .dataframe thead tr:only-child th {\n",
       "        text-align: right;\n",
       "    }\n",
       "\n",
       "    .dataframe thead th {\n",
       "        text-align: left;\n",
       "    }\n",
       "\n",
       "    .dataframe tbody tr th {\n",
       "        vertical-align: top;\n",
       "    }\n",
       "</style>\n",
       "<table border=\"1\" class=\"dataframe\">\n",
       "  <thead>\n",
       "    <tr style=\"text-align: right;\">\n",
       "      <th></th>\n",
       "      <th>id</th>\n",
       "      <th>created_on</th>\n",
       "      <th>operation</th>\n",
       "      <th>place_name</th>\n",
       "      <th>place_with_parent_names</th>\n",
       "      <th>country_name</th>\n",
       "      <th>state_name</th>\n",
       "      <th>geonames_id</th>\n",
       "      <th>lat-lon</th>\n",
       "      <th>lat</th>\n",
       "      <th>...</th>\n",
       "      <th>expenses</th>\n",
       "      <th>properati_url</th>\n",
       "      <th>description</th>\n",
       "      <th>title</th>\n",
       "      <th>image_thumbnail</th>\n",
       "      <th>latlon</th>\n",
       "      <th>rooms</th>\n",
       "      <th>ambientes</th>\n",
       "      <th>banios</th>\n",
       "      <th>webp</th>\n",
       "    </tr>\n",
       "    <tr>\n",
       "      <th>property_type</th>\n",
       "      <th></th>\n",
       "      <th></th>\n",
       "      <th></th>\n",
       "      <th></th>\n",
       "      <th></th>\n",
       "      <th></th>\n",
       "      <th></th>\n",
       "      <th></th>\n",
       "      <th></th>\n",
       "      <th></th>\n",
       "      <th></th>\n",
       "      <th></th>\n",
       "      <th></th>\n",
       "      <th></th>\n",
       "      <th></th>\n",
       "      <th></th>\n",
       "      <th></th>\n",
       "      <th></th>\n",
       "      <th></th>\n",
       "      <th></th>\n",
       "      <th></th>\n",
       "    </tr>\n",
       "  </thead>\n",
       "  <tbody>\n",
       "    <tr>\n",
       "      <th>PH</th>\n",
       "      <td>5565</td>\n",
       "      <td>5565</td>\n",
       "      <td>5565</td>\n",
       "      <td>5565</td>\n",
       "      <td>5565</td>\n",
       "      <td>5565</td>\n",
       "      <td>5565</td>\n",
       "      <td>5565.0</td>\n",
       "      <td>5565</td>\n",
       "      <td>5565.0</td>\n",
       "      <td>...</td>\n",
       "      <td>5565.0</td>\n",
       "      <td>5565</td>\n",
       "      <td>5565</td>\n",
       "      <td>5565</td>\n",
       "      <td>5565</td>\n",
       "      <td>5565</td>\n",
       "      <td>5565.0</td>\n",
       "      <td>5565.0</td>\n",
       "      <td>5565.0</td>\n",
       "      <td>5565</td>\n",
       "    </tr>\n",
       "    <tr>\n",
       "      <th>apartment</th>\n",
       "      <td>54367</td>\n",
       "      <td>54367</td>\n",
       "      <td>54367</td>\n",
       "      <td>54367</td>\n",
       "      <td>54367</td>\n",
       "      <td>54367</td>\n",
       "      <td>54367</td>\n",
       "      <td>54367.0</td>\n",
       "      <td>54367</td>\n",
       "      <td>54367.0</td>\n",
       "      <td>...</td>\n",
       "      <td>54367.0</td>\n",
       "      <td>54367</td>\n",
       "      <td>54367</td>\n",
       "      <td>54367</td>\n",
       "      <td>54367</td>\n",
       "      <td>54367</td>\n",
       "      <td>54367.0</td>\n",
       "      <td>54367.0</td>\n",
       "      <td>54367.0</td>\n",
       "      <td>54367</td>\n",
       "    </tr>\n",
       "    <tr>\n",
       "      <th>house</th>\n",
       "      <td>30457</td>\n",
       "      <td>30457</td>\n",
       "      <td>30457</td>\n",
       "      <td>30457</td>\n",
       "      <td>30457</td>\n",
       "      <td>30457</td>\n",
       "      <td>30457</td>\n",
       "      <td>30457.0</td>\n",
       "      <td>30457</td>\n",
       "      <td>30457.0</td>\n",
       "      <td>...</td>\n",
       "      <td>30457.0</td>\n",
       "      <td>30457</td>\n",
       "      <td>30457</td>\n",
       "      <td>30457</td>\n",
       "      <td>30457</td>\n",
       "      <td>30457</td>\n",
       "      <td>30457.0</td>\n",
       "      <td>30457.0</td>\n",
       "      <td>30457.0</td>\n",
       "      <td>30457</td>\n",
       "    </tr>\n",
       "    <tr>\n",
       "      <th>store</th>\n",
       "      <td>3254</td>\n",
       "      <td>3254</td>\n",
       "      <td>3254</td>\n",
       "      <td>3254</td>\n",
       "      <td>3254</td>\n",
       "      <td>3254</td>\n",
       "      <td>3254</td>\n",
       "      <td>3254.0</td>\n",
       "      <td>3254</td>\n",
       "      <td>3254.0</td>\n",
       "      <td>...</td>\n",
       "      <td>3254.0</td>\n",
       "      <td>3254</td>\n",
       "      <td>3254</td>\n",
       "      <td>3254</td>\n",
       "      <td>3254</td>\n",
       "      <td>3254</td>\n",
       "      <td>3254.0</td>\n",
       "      <td>3254.0</td>\n",
       "      <td>3254.0</td>\n",
       "      <td>3254</td>\n",
       "    </tr>\n",
       "  </tbody>\n",
       "</table>\n",
       "<p>4 rows × 30 columns</p>\n",
       "</div>"
      ],
      "text/plain": [
       "                  id  created_on  operation  place_name  \\\n",
       "property_type                                             \n",
       "PH              5565        5565       5565        5565   \n",
       "apartment      54367       54367      54367       54367   \n",
       "house          30457       30457      30457       30457   \n",
       "store           3254        3254       3254        3254   \n",
       "\n",
       "               place_with_parent_names  country_name  state_name  geonames_id  \\\n",
       "property_type                                                                   \n",
       "PH                                5565          5565        5565       5565.0   \n",
       "apartment                        54367         54367       54367      54367.0   \n",
       "house                            30457         30457       30457      30457.0   \n",
       "store                             3254          3254        3254       3254.0   \n",
       "\n",
       "               lat-lon      lat  ...    expenses  properati_url  description  \\\n",
       "property_type                    ...                                           \n",
       "PH                5565   5565.0  ...      5565.0           5565         5565   \n",
       "apartment        54367  54367.0  ...     54367.0          54367        54367   \n",
       "house            30457  30457.0  ...     30457.0          30457        30457   \n",
       "store             3254   3254.0  ...      3254.0           3254         3254   \n",
       "\n",
       "               title  image_thumbnail  latlon    rooms  ambientes   banios  \\\n",
       "property_type                                                                \n",
       "PH              5565             5565    5565   5565.0     5565.0   5565.0   \n",
       "apartment      54367            54367   54367  54367.0    54367.0  54367.0   \n",
       "house          30457            30457   30457  30457.0    30457.0  30457.0   \n",
       "store           3254             3254    3254   3254.0     3254.0   3254.0   \n",
       "\n",
       "                webp  \n",
       "property_type         \n",
       "PH              5565  \n",
       "apartment      54367  \n",
       "house          30457  \n",
       "store           3254  \n",
       "\n",
       "[4 rows x 30 columns]"
      ]
     },
     "execution_count": 8,
     "metadata": {},
     "output_type": "execute_result"
    }
   ],
   "source": [
    "tipos = propertyD.groupby('property_type').agg(np.size)\n",
    "tipos.head(10)"
   ]
  },
  {
   "cell_type": "code",
   "execution_count": 86,
   "metadata": {
    "collapsed": true
   },
   "outputs": [],
   "source": [
    "propiedades = propertyD[['id','created_on','price_aprox_usd','property_type']]"
   ]
  },
  {
   "cell_type": "markdown",
   "metadata": {},
   "source": [
    "# Vamos a analizar las casas"
   ]
  },
  {
   "cell_type": "code",
   "execution_count": 87,
   "metadata": {},
   "outputs": [
    {
     "data": {
      "text/html": [
       "<div>\n",
       "<style>\n",
       "    .dataframe thead tr:only-child th {\n",
       "        text-align: right;\n",
       "    }\n",
       "\n",
       "    .dataframe thead th {\n",
       "        text-align: left;\n",
       "    }\n",
       "\n",
       "    .dataframe tbody tr th {\n",
       "        vertical-align: top;\n",
       "    }\n",
       "</style>\n",
       "<table border=\"1\" class=\"dataframe\">\n",
       "  <thead>\n",
       "    <tr style=\"text-align: right;\">\n",
       "      <th></th>\n",
       "      <th>id</th>\n",
       "      <th>created_on</th>\n",
       "      <th>price_aprox_usd</th>\n",
       "      <th>property_type</th>\n",
       "    </tr>\n",
       "  </thead>\n",
       "  <tbody>\n",
       "    <tr>\n",
       "      <th>0</th>\n",
       "      <td>c8a66ee9e3da083ab66dacd165e8a5cc718b1cf2</td>\n",
       "      <td>2012-09-19</td>\n",
       "      <td>120000.0</td>\n",
       "      <td>house</td>\n",
       "    </tr>\n",
       "    <tr>\n",
       "      <th>1</th>\n",
       "      <td>a205c53378e7879cf7519659317fb410c060d20e</td>\n",
       "      <td>2012-10-22</td>\n",
       "      <td>220000.0</td>\n",
       "      <td>house</td>\n",
       "    </tr>\n",
       "    <tr>\n",
       "      <th>2</th>\n",
       "      <td>9446052c949050359fb08b9f1ba83ba2eaa20c99</td>\n",
       "      <td>2012-12-08</td>\n",
       "      <td>185000.0</td>\n",
       "      <td>house</td>\n",
       "    </tr>\n",
       "  </tbody>\n",
       "</table>\n",
       "</div>"
      ],
      "text/plain": [
       "                                         id  created_on  price_aprox_usd  \\\n",
       "0  c8a66ee9e3da083ab66dacd165e8a5cc718b1cf2  2012-09-19         120000.0   \n",
       "1  a205c53378e7879cf7519659317fb410c060d20e  2012-10-22         220000.0   \n",
       "2  9446052c949050359fb08b9f1ba83ba2eaa20c99  2012-12-08         185000.0   \n",
       "\n",
       "  property_type  \n",
       "0         house  \n",
       "1         house  \n",
       "2         house  "
      ]
     },
     "execution_count": 87,
     "metadata": {},
     "output_type": "execute_result"
    }
   ],
   "source": [
    "propiedades = propiedades[propiedades['property_type'] == 'house']\n",
    "propiedades.head(3)"
   ]
  },
  {
   "cell_type": "code",
   "execution_count": 88,
   "metadata": {
    "collapsed": true
   },
   "outputs": [],
   "source": [
    "#Le agrego una columna que es el año\n",
    "propiedades['year'] = propiedades['created_on']\n",
    "propiedades['year'] = propiedades['year'].apply(lambda x: int(x[0:4]))\n",
    "\n",
    "#Le agrego una columna que es el mes\n",
    "propiedades['month'] = propiedades['created_on']\n",
    "propiedades['month'] = propiedades['month'].apply(lambda x: int(x[5:7]))"
   ]
  },
  {
   "cell_type": "code",
   "execution_count": 89,
   "metadata": {
    "collapsed": true
   },
   "outputs": [],
   "source": [
    "prop2013 = propiedades[ propiedades['year'] == 2013 ]\n",
    "prop2014 = propiedades[ propiedades['year'] == 2014 ]\n",
    "prop2015 = propiedades[ propiedades['year'] == 2015 ]\n",
    "prop2016 = propiedades[ propiedades['year'] == 2016 ]\n",
    "prop2017 = propiedades[ propiedades['year'] == 2017 ]"
   ]
  },
  {
   "cell_type": "code",
   "execution_count": 90,
   "metadata": {
    "collapsed": true
   },
   "outputs": [],
   "source": [
    "pro2013 = prop2013[['month','price_aprox_usd']]\n",
    "pro2013 = pro2013.groupby('month').agg(np.mean)\n",
    "pro2013 = pro2013.reset_index()\n",
    "\n",
    "pro2014 = prop2014[['month','price_aprox_usd']]\n",
    "pro2014 = pro2014.groupby('month').agg(np.mean)\n",
    "pro2014 = pro2014.reset_index()\n",
    "\n",
    "pro2015 = prop2015[['month','price_aprox_usd']]\n",
    "pro2015 = pro2015.groupby('month').agg(np.mean)\n",
    "pro2015 = pro2015.reset_index()\n",
    "\n",
    "pro2016 = prop2016[['month','price_aprox_usd']]\n",
    "pro2016 = pro2016.groupby('month').agg(np.mean)\n",
    "pro2016 = pro2016.reset_index()\n",
    "\n",
    "pro2017 = prop2017[['month','price_aprox_usd']]\n",
    "pro2017 = pro2017.groupby('month').agg(np.mean)\n",
    "pro2017 = pro2017.reset_index()"
   ]
  },
  {
   "cell_type": "code",
   "execution_count": 93,
   "metadata": {
    "collapsed": true
   },
   "outputs": [],
   "source": [
    "l=[1,2,3,4,5,6,7,8,9,10,11,12]\n",
    "a = pro2013['price_aprox_usd']\n",
    "uno = pd.Series([0,0,0,0,a[0],a[1],a[2],a[3],a[4],a[5],a[6],a[7]])"
   ]
  },
  {
   "cell_type": "code",
   "execution_count": 94,
   "metadata": {},
   "outputs": [
    {
     "data": {
      "text/html": [
       "<div>\n",
       "<style>\n",
       "    .dataframe thead tr:only-child th {\n",
       "        text-align: right;\n",
       "    }\n",
       "\n",
       "    .dataframe thead th {\n",
       "        text-align: left;\n",
       "    }\n",
       "\n",
       "    .dataframe tbody tr th {\n",
       "        vertical-align: top;\n",
       "    }\n",
       "</style>\n",
       "<table border=\"1\" class=\"dataframe\">\n",
       "  <thead>\n",
       "    <tr style=\"text-align: right;\">\n",
       "      <th></th>\n",
       "      <th>meses</th>\n",
       "      <th>precio</th>\n",
       "    </tr>\n",
       "  </thead>\n",
       "  <tbody>\n",
       "    <tr>\n",
       "      <th>0</th>\n",
       "      <td>1</td>\n",
       "      <td>0.000000</td>\n",
       "    </tr>\n",
       "    <tr>\n",
       "      <th>1</th>\n",
       "      <td>2</td>\n",
       "      <td>0.000000</td>\n",
       "    </tr>\n",
       "    <tr>\n",
       "      <th>2</th>\n",
       "      <td>3</td>\n",
       "      <td>0.000000</td>\n",
       "    </tr>\n",
       "    <tr>\n",
       "      <th>3</th>\n",
       "      <td>4</td>\n",
       "      <td>0.000000</td>\n",
       "    </tr>\n",
       "    <tr>\n",
       "      <th>4</th>\n",
       "      <td>5</td>\n",
       "      <td>201424.137931</td>\n",
       "    </tr>\n",
       "    <tr>\n",
       "      <th>5</th>\n",
       "      <td>6</td>\n",
       "      <td>310000.000000</td>\n",
       "    </tr>\n",
       "    <tr>\n",
       "      <th>6</th>\n",
       "      <td>7</td>\n",
       "      <td>187500.000000</td>\n",
       "    </tr>\n",
       "    <tr>\n",
       "      <th>7</th>\n",
       "      <td>8</td>\n",
       "      <td>145714.285714</td>\n",
       "    </tr>\n",
       "    <tr>\n",
       "      <th>8</th>\n",
       "      <td>9</td>\n",
       "      <td>169000.000000</td>\n",
       "    </tr>\n",
       "    <tr>\n",
       "      <th>9</th>\n",
       "      <td>10</td>\n",
       "      <td>282500.000000</td>\n",
       "    </tr>\n",
       "    <tr>\n",
       "      <th>10</th>\n",
       "      <td>11</td>\n",
       "      <td>184285.714286</td>\n",
       "    </tr>\n",
       "    <tr>\n",
       "      <th>11</th>\n",
       "      <td>12</td>\n",
       "      <td>110000.000000</td>\n",
       "    </tr>\n",
       "  </tbody>\n",
       "</table>\n",
       "</div>"
      ],
      "text/plain": [
       "    meses         precio\n",
       "0       1       0.000000\n",
       "1       2       0.000000\n",
       "2       3       0.000000\n",
       "3       4       0.000000\n",
       "4       5  201424.137931\n",
       "5       6  310000.000000\n",
       "6       7  187500.000000\n",
       "7       8  145714.285714\n",
       "8       9  169000.000000\n",
       "9      10  282500.000000\n",
       "10     11  184285.714286\n",
       "11     12  110000.000000"
      ]
     },
     "execution_count": 94,
     "metadata": {},
     "output_type": "execute_result"
    }
   ],
   "source": [
    "pro2013 = pd.DataFrame({'meses':l,'precio':uno})\n",
    "pro2013"
   ]
  },
  {
   "cell_type": "code",
   "execution_count": 96,
   "metadata": {
    "scrolled": false
   },
   "outputs": [
    {
     "data": {
      "image/png": "[encoded data removed]",
      "text/plain": [
       "<matplotlib.figure.Figure at 0x7f435de530d0>"
      ]
     },
     "metadata": {},
     "output_type": "display_data"
    }
   ],
   "source": [
    "ax = pro2013.reset_index().plot(kind='bar',figsize=(15,8), x='meses',y='precio',\\\n",
    "                  title = 'Variacion Precios Casas 2013',linewidth=2,\\\n",
    "                  color='lightcoral',xticks=l)\n",
    "ax.set_ylabel('Precio en USD')\n",
    "ax.set_xlabel('Meses')\n",
    "ax.set_ylim([0, 600000])\n",
    "plt.show()"
   ]
  },
  {
   "cell_type": "code",
   "execution_count": 47,
   "metadata": {},
   "outputs": [
    {
     "data": {
      "image/png": "[encoded data removed]",
      "text/plain": [
       "<matplotlib.figure.Figure at 0x7f432324e850>"
      ]
     },
     "metadata": {},
     "output_type": "display_data"
    }
   ],
   "source": [
    "ax = pro2014.reset_index().plot(kind='bar',figsize=(15,8), x='month',y='price_aprox_usd',\\\n",
    "                  title = 'Variacion Precios Casas 2014',linewidth=2,\\\n",
    "                  color='lightcoral')\n",
    "ax.set_ylabel('Precio en USD')\n",
    "ax.set_xlabel('Meses')\n",
    "ax.set_ylim([0, 600000])\n",
    "plt.show()"
   ]
  },
  {
   "cell_type": "code",
   "execution_count": 48,
   "metadata": {},
   "outputs": [
    {
     "data": {
      "image/png": "[encoded data removed]",
      "text/plain": [
       "<matplotlib.figure.Figure at 0x7f4321de7750>"
      ]
     },
     "metadata": {},
     "output_type": "display_data"
    }
   ],
   "source": [
    "ax = pro2015.reset_index().plot(kind='bar',figsize=(15,8), x='month',y='price_aprox_usd',\\\n",
    "                  title = 'Variacion Precios Casas 2015',linewidth=2,\\\n",
    "                  color='lightcoral')\n",
    "ax.set_ylabel('Precio en USD')\n",
    "ax.set_xlabel('Meses')\n",
    "ax.set_ylim([0, 600000])\n",
    "plt.show()"
   ]
  },
  {
   "cell_type": "code",
   "execution_count": 50,
   "metadata": {},
   "outputs": [
    {
     "data": {
      "image/png": "[encoded data removed]",
      "text/plain": [
       "<matplotlib.figure.Figure at 0x7f432152a410>"
      ]
     },
     "metadata": {},
     "output_type": "display_data"
    }
   ],
   "source": [
    "ax = pro2016.reset_index().plot(kind='bar',figsize=(15,8), x='month',y='price_aprox_usd',\\\n",
    "                  title = 'Variacion Precios Casas 2016',linewidth=2,\\\n",
    "                  color='lightcoral')\n",
    "ax.set_ylabel('Precio en USD')\n",
    "ax.set_xlabel('Meses')\n",
    "ax.set_ylim([0, 600000])\n",
    "plt.show()"
   ]
  },
  {
   "cell_type": "code",
   "execution_count": 97,
   "metadata": {
    "collapsed": true
   },
   "outputs": [],
   "source": [
    "b = pro2017['price_aprox_usd']\n",
    "dos = pd.Series([b[0],b[1],b[2],b[3],b[4],b[5],b[6],b[7],0,0,0,0])"
   ]
  },
  {
   "cell_type": "code",
   "execution_count": 98,
   "metadata": {},
   "outputs": [
    {
     "data": {
      "text/html": [
       "<div>\n",
       "<style>\n",
       "    .dataframe thead tr:only-child th {\n",
       "        text-align: right;\n",
       "    }\n",
       "\n",
       "    .dataframe thead th {\n",
       "        text-align: left;\n",
       "    }\n",
       "\n",
       "    .dataframe tbody tr th {\n",
       "        vertical-align: top;\n",
       "    }\n",
       "</style>\n",
       "<table border=\"1\" class=\"dataframe\">\n",
       "  <thead>\n",
       "    <tr style=\"text-align: right;\">\n",
       "      <th></th>\n",
       "      <th>meses</th>\n",
       "      <th>precio</th>\n",
       "    </tr>\n",
       "  </thead>\n",
       "  <tbody>\n",
       "    <tr>\n",
       "      <th>0</th>\n",
       "      <td>1</td>\n",
       "      <td>381505.969110</td>\n",
       "    </tr>\n",
       "    <tr>\n",
       "      <th>1</th>\n",
       "      <td>2</td>\n",
       "      <td>440079.555029</td>\n",
       "    </tr>\n",
       "    <tr>\n",
       "      <th>2</th>\n",
       "      <td>3</td>\n",
       "      <td>421812.576544</td>\n",
       "    </tr>\n",
       "    <tr>\n",
       "      <th>3</th>\n",
       "      <td>4</td>\n",
       "      <td>374893.754793</td>\n",
       "    </tr>\n",
       "    <tr>\n",
       "      <th>4</th>\n",
       "      <td>5</td>\n",
       "      <td>353015.478132</td>\n",
       "    </tr>\n",
       "    <tr>\n",
       "      <th>5</th>\n",
       "      <td>6</td>\n",
       "      <td>378450.619665</td>\n",
       "    </tr>\n",
       "    <tr>\n",
       "      <th>6</th>\n",
       "      <td>7</td>\n",
       "      <td>377055.595609</td>\n",
       "    </tr>\n",
       "    <tr>\n",
       "      <th>7</th>\n",
       "      <td>8</td>\n",
       "      <td>306709.677419</td>\n",
       "    </tr>\n",
       "    <tr>\n",
       "      <th>8</th>\n",
       "      <td>9</td>\n",
       "      <td>0.000000</td>\n",
       "    </tr>\n",
       "    <tr>\n",
       "      <th>9</th>\n",
       "      <td>10</td>\n",
       "      <td>0.000000</td>\n",
       "    </tr>\n",
       "    <tr>\n",
       "      <th>10</th>\n",
       "      <td>11</td>\n",
       "      <td>0.000000</td>\n",
       "    </tr>\n",
       "    <tr>\n",
       "      <th>11</th>\n",
       "      <td>12</td>\n",
       "      <td>0.000000</td>\n",
       "    </tr>\n",
       "  </tbody>\n",
       "</table>\n",
       "</div>"
      ],
      "text/plain": [
       "    meses         precio\n",
       "0       1  381505.969110\n",
       "1       2  440079.555029\n",
       "2       3  421812.576544\n",
       "3       4  374893.754793\n",
       "4       5  353015.478132\n",
       "5       6  378450.619665\n",
       "6       7  377055.595609\n",
       "7       8  306709.677419\n",
       "8       9       0.000000\n",
       "9      10       0.000000\n",
       "10     11       0.000000\n",
       "11     12       0.000000"
      ]
     },
     "execution_count": 98,
     "metadata": {},
     "output_type": "execute_result"
    }
   ],
   "source": [
    "pro2017 = pd.DataFrame({'meses':l,'precio':dos})\n",
    "pro2017"
   ]
  },
  {
   "cell_type": "code",
   "execution_count": 100,
   "metadata": {},
   "outputs": [
    {
     "data": {
      "image/png": "[encoded data removed]",
      "text/plain": [
       "<matplotlib.figure.Figure at 0x7f4323c34810>"
      ]
     },
     "metadata": {},
     "output_type": "display_data"
    }
   ],
   "source": [
    "ax = pro2017.reset_index().plot(kind='bar',figsize=(15,8), x='meses',y='precio',\\\n",
    "                  title = 'Variacion Precios Casas 2017',linewidth=2,\\\n",
    "                  color='lightcoral')\n",
    "ax.set_ylabel('Precio en USD')\n",
    "ax.set_xlabel('Meses')\n",
    "ax.set_ylim([0, 450000])\n",
    "plt.show()"
   ]
  }
 ],
 "metadata": {
  "kernelspec": {
   "display_name": "Python 2",
   "language": "python",
   "name": "python2"
  },
  "language_info": {
   "codemirror_mode": {
    "name": "ipython",
    "version": 2
   },
   "file_extension": ".py",
   "mimetype": "text/x-python",
   "name": "python",
   "nbconvert_exporter": "python",
   "pygments_lexer": "ipython2",
   "version": "2.7.13"
  }
 },
 "nbformat": 4,
 "nbformat_minor": 2
}

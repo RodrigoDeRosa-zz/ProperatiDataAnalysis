{
 "cells": [
  {
   "cell_type": "code",
   "execution_count": 1,
   "metadata": {
    "collapsed": true
   },
   "outputs": [],
   "source": [
    "import pandas as pd\n",
    "import numpy as np\n",
    "import matplotlib.pyplot as plt\n",
    "import cPickle as pickle"
   ]
  },
  {
   "cell_type": "code",
   "execution_count": 2,
   "metadata": {
    "collapsed": true
   },
   "outputs": [],
   "source": [
    "realData = pickle.load(open(\"../../../../datos/Data.p\",\"rb\"))"
   ]
  },
  {
   "cell_type": "code",
   "execution_count": 5,
   "metadata": {},
   "outputs": [
    {
     "name": "stdout",
     "output_type": "stream",
     "text": [
      "<class 'pandas.core.frame.DataFrame'>\n",
      "Int64Index: 72474 entries, 0 to 72473\n",
      "Data columns (total 36 columns):\n",
      "id                            72474 non-null object\n",
      "created_on                    72474 non-null object\n",
      "operation                     72474 non-null object\n",
      "property_type                 72474 non-null object\n",
      "place_name                    72446 non-null object\n",
      "place_with_parent_names       72474 non-null object\n",
      "country_name                  72474 non-null object\n",
      "state_name                    72474 non-null object\n",
      "geonames_id                   62030 non-null float64\n",
      "lat-lon                       48174 non-null object\n",
      "lat                           48174 non-null float64\n",
      "lon                           48174 non-null float64\n",
      "price                         72474 non-null float64\n",
      "currency                      72473 non-null object\n",
      "price_aprox_local_currency    72474 non-null float64\n",
      "price_aprox_usd               72474 non-null float64\n",
      "surface_total_in_m2           72474 non-null float64\n",
      "surface_covered_in_m2         68556 non-null float64\n",
      "price_usd_per_m2              72474 non-null float64\n",
      "price_per_m2                  68553 non-null float64\n",
      "floor                         5990 non-null float64\n",
      "expenses                      10809 non-null float64\n",
      "properati_url                 72474 non-null object\n",
      "description                   72473 non-null object\n",
      "title                         72474 non-null object\n",
      "image_thumbnail               71446 non-null object\n",
      "latlon                        72474 non-null object\n",
      "Cant_ColeYUniv                72474 non-null int64\n",
      "Cant_EspaciosVerdes           72474 non-null int64\n",
      "Cant_LocalesGastronomicos     72474 non-null int64\n",
      "Cant_ParadasTransporte        72474 non-null int64\n",
      "Cant_LugaresTuristicos        72474 non-null int64\n",
      "rooms                         49570 non-null float64\n",
      "ambientes                     38316 non-null float64\n",
      "banios                        27926 non-null float64\n",
      "webp                          39559 non-null object\n",
      "dtypes: float64(15), int64(5), object(16)\n",
      "memory usage: 20.5+ MB\n"
     ]
    }
   ],
   "source": [
    "realData = realData[['id','created_on','operation','property_type','place_name','place_with_parent_names',\n",
    "                     'country_name','state_name','geonames_id','lat-lon','lat','lon','price','currency',\n",
    "                     'price_aprox_local_currency','price_aprox_usd','surface_total_in_m2','surface_covered_in_m2',\n",
    "                     'price_usd_per_m2','price_per_m2','floor','expenses','properati_url','description',\n",
    "                     'title','image_thumbnail','latlon','Cant_ColeYUniv','Cant_EspaciosVerdes',\n",
    "                     'Cant_LocalesGastronomicos','Cant_ParadasTransporte','Cant_LugaresTuristicos','rooms',\n",
    "                    'ambientes','banios']]"
   ]
  }
 ],
 "metadata": {
  "kernelspec": {
   "display_name": "Python 2",
   "language": "python",
   "name": "python2"
  },
  "language_info": {
   "codemirror_mode": {
    "name": "ipython",
    "version": 2
   },
   "file_extension": ".py",
   "mimetype": "text/x-python",
   "name": "python",
   "nbconvert_exporter": "python",
   "pygments_lexer": "ipython2",
   "version": "2.7.13"
  }
 },
 "nbformat": 4,
 "nbformat_minor": 2
}
